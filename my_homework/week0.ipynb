{
 "cells": [
  {
   "cell_type": "code",
   "execution_count": 2,
   "id": "c72f0035-47f4-40ea-8ab0-1ee8f26692a0",
   "metadata": {},
   "outputs": [],
   "source": [
    "import pandas as pd\n",
    "import numpy as np"
   ]
  },
  {
   "cell_type": "code",
   "execution_count": 8,
   "id": "f1c66eac-6da7-4500-bf2c-a5f23fcbba79",
   "metadata": {},
   "outputs": [],
   "source": [
    "stmnt = pd.read_csv(\"~/downloads/accountactivity.csv\", names=[\"Date\", \"Item\",\"Debit\",\"Credit\",\"Balance\"], header=None)"
   ]
  },
  {
   "cell_type": "code",
   "execution_count": 11,
   "id": "635ad0cb-8119-4036-b58f-d27a222a7427",
   "metadata": {},
   "outputs": [
    {
     "data": {
      "text/plain": [
       "Date       08/22/202308/22/202308/22/202308/21/202308/18/...\n",
       "Item       INTEREST CHARGE -PURCHASEBALANCE PROTECTION IN...\n",
       "Debit                                                 896.83\n",
       "Credit                                                638.71\n",
       "Balance                                            108128.93\n",
       "dtype: object"
      ]
     },
     "execution_count": 11,
     "metadata": {},
     "output_type": "execute_result"
    }
   ],
   "source": [
    "stmnt.sum()"
   ]
  }
 ],
 "metadata": {
  "kernelspec": {
   "display_name": "Python 3 (ipykernel)",
   "language": "python",
   "name": "python3"
  },
  "language_info": {
   "codemirror_mode": {
    "name": "ipython",
    "version": 3
   },
   "file_extension": ".py",
   "mimetype": "text/x-python",
   "name": "python",
   "nbconvert_exporter": "python",
   "pygments_lexer": "ipython3",
   "version": "3.11.4"
  }
 },
 "nbformat": 4,
 "nbformat_minor": 5
}
