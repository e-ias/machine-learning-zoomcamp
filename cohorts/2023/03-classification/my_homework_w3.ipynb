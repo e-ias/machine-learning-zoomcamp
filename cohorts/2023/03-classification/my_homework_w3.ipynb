{
 "cells": [
  {
   "cell_type": "code",
   "execution_count": null,
   "id": "6c39e390-a1e2-4327-b73c-645d733c639c",
   "metadata": {},
   "outputs": [],
   "source": [
    "#!pip install scikit-learn"
   ]
  },
  {
   "cell_type": "code",
   "execution_count": 1,
   "id": "8b1ba5ab-04ab-4709-a775-3ac3e95af323",
   "metadata": {
    "scrolled": true
   },
   "outputs": [
    {
     "name": "stdout",
     "output_type": "stream",
     "text": [
      "--2023-10-02 11:15:59--  https://raw.githubusercontent.com/alexeygrigorev/mlbookcamp-code/master/chapter-02-car-price/data.csv\n",
      "Resolving raw.githubusercontent.com (raw.githubusercontent.com)... 2606:50c0:8003::154, 2606:50c0:8000::154, 2606:50c0:8002::154, ...\n",
      "Connecting to raw.githubusercontent.com (raw.githubusercontent.com)|2606:50c0:8003::154|:443... connected.\n",
      "HTTP request sent, awaiting response... 200 OK\n",
      "Length: 1475504 (1.4M) [text/plain]\n",
      "Saving to: ‘data.csv’\n",
      "\n",
      "data.csv            100%[===================>]   1.41M  5.00MB/s    in 0.3s    \n",
      "\n",
      "2023-10-02 11:15:59 (5.00 MB/s) - ‘data.csv’ saved [1475504/1475504]\n",
      "\n"
     ]
    }
   ],
   "source": [
    "!wget https://raw.githubusercontent.com/alexeygrigorev/mlbookcamp-code/master/chapter-02-car-price/data.csv"
   ]
  },
  {
   "cell_type": "code",
   "execution_count": 163,
   "id": "b02c038c-adde-43fe-bda8-b555e954fcc5",
   "metadata": {},
   "outputs": [],
   "source": [
    "import pandas as pd\n",
    "import numpy as np\n",
    "import matplotlib.pyplot as plt\n",
    "from sklearn.model_selection import train_test_split\n",
    "from sklearn.metrics import accuracy_score"
   ]
  },
  {
   "cell_type": "markdown",
   "id": "fbc06eea-8f61-4a78-84c3-15c9e3eec9ca",
   "metadata": {},
   "source": [
    "### Read and prep data"
   ]
  },
  {
   "cell_type": "code",
   "execution_count": 164,
   "id": "a047ee18-5f00-466f-a3d7-1356e09a0260",
   "metadata": {},
   "outputs": [],
   "source": [
    "df = pd.read_csv('data.csv')"
   ]
  },
  {
   "cell_type": "code",
   "execution_count": 165,
   "id": "e427b56b-a5d1-4208-b244-5d5658c38b9f",
   "metadata": {
    "scrolled": true
   },
   "outputs": [
    {
     "data": {
      "text/html": [
       "<div>\n",
       "<style scoped>\n",
       "    .dataframe tbody tr th:only-of-type {\n",
       "        vertical-align: middle;\n",
       "    }\n",
       "\n",
       "    .dataframe tbody tr th {\n",
       "        vertical-align: top;\n",
       "    }\n",
       "\n",
       "    .dataframe thead th {\n",
       "        text-align: right;\n",
       "    }\n",
       "</style>\n",
       "<table border=\"1\" class=\"dataframe\">\n",
       "  <thead>\n",
       "    <tr style=\"text-align: right;\">\n",
       "      <th></th>\n",
       "      <th>0</th>\n",
       "      <th>1</th>\n",
       "      <th>2</th>\n",
       "      <th>3</th>\n",
       "      <th>4</th>\n",
       "    </tr>\n",
       "  </thead>\n",
       "  <tbody>\n",
       "    <tr>\n",
       "      <th>Make</th>\n",
       "      <td>BMW</td>\n",
       "      <td>BMW</td>\n",
       "      <td>BMW</td>\n",
       "      <td>BMW</td>\n",
       "      <td>BMW</td>\n",
       "    </tr>\n",
       "    <tr>\n",
       "      <th>Model</th>\n",
       "      <td>1 Series M</td>\n",
       "      <td>1 Series</td>\n",
       "      <td>1 Series</td>\n",
       "      <td>1 Series</td>\n",
       "      <td>1 Series</td>\n",
       "    </tr>\n",
       "    <tr>\n",
       "      <th>Year</th>\n",
       "      <td>2011</td>\n",
       "      <td>2011</td>\n",
       "      <td>2011</td>\n",
       "      <td>2011</td>\n",
       "      <td>2011</td>\n",
       "    </tr>\n",
       "    <tr>\n",
       "      <th>Engine Fuel Type</th>\n",
       "      <td>premium unleaded (required)</td>\n",
       "      <td>premium unleaded (required)</td>\n",
       "      <td>premium unleaded (required)</td>\n",
       "      <td>premium unleaded (required)</td>\n",
       "      <td>premium unleaded (required)</td>\n",
       "    </tr>\n",
       "    <tr>\n",
       "      <th>Engine HP</th>\n",
       "      <td>335.0</td>\n",
       "      <td>300.0</td>\n",
       "      <td>300.0</td>\n",
       "      <td>230.0</td>\n",
       "      <td>230.0</td>\n",
       "    </tr>\n",
       "    <tr>\n",
       "      <th>Engine Cylinders</th>\n",
       "      <td>6.0</td>\n",
       "      <td>6.0</td>\n",
       "      <td>6.0</td>\n",
       "      <td>6.0</td>\n",
       "      <td>6.0</td>\n",
       "    </tr>\n",
       "    <tr>\n",
       "      <th>Transmission Type</th>\n",
       "      <td>MANUAL</td>\n",
       "      <td>MANUAL</td>\n",
       "      <td>MANUAL</td>\n",
       "      <td>MANUAL</td>\n",
       "      <td>MANUAL</td>\n",
       "    </tr>\n",
       "    <tr>\n",
       "      <th>Driven_Wheels</th>\n",
       "      <td>rear wheel drive</td>\n",
       "      <td>rear wheel drive</td>\n",
       "      <td>rear wheel drive</td>\n",
       "      <td>rear wheel drive</td>\n",
       "      <td>rear wheel drive</td>\n",
       "    </tr>\n",
       "    <tr>\n",
       "      <th>Number of Doors</th>\n",
       "      <td>2.0</td>\n",
       "      <td>2.0</td>\n",
       "      <td>2.0</td>\n",
       "      <td>2.0</td>\n",
       "      <td>2.0</td>\n",
       "    </tr>\n",
       "    <tr>\n",
       "      <th>Market Category</th>\n",
       "      <td>Factory Tuner,Luxury,High-Performance</td>\n",
       "      <td>Luxury,Performance</td>\n",
       "      <td>Luxury,High-Performance</td>\n",
       "      <td>Luxury,Performance</td>\n",
       "      <td>Luxury</td>\n",
       "    </tr>\n",
       "    <tr>\n",
       "      <th>Vehicle Size</th>\n",
       "      <td>Compact</td>\n",
       "      <td>Compact</td>\n",
       "      <td>Compact</td>\n",
       "      <td>Compact</td>\n",
       "      <td>Compact</td>\n",
       "    </tr>\n",
       "    <tr>\n",
       "      <th>Vehicle Style</th>\n",
       "      <td>Coupe</td>\n",
       "      <td>Convertible</td>\n",
       "      <td>Coupe</td>\n",
       "      <td>Coupe</td>\n",
       "      <td>Convertible</td>\n",
       "    </tr>\n",
       "    <tr>\n",
       "      <th>highway MPG</th>\n",
       "      <td>26</td>\n",
       "      <td>28</td>\n",
       "      <td>28</td>\n",
       "      <td>28</td>\n",
       "      <td>28</td>\n",
       "    </tr>\n",
       "    <tr>\n",
       "      <th>city mpg</th>\n",
       "      <td>19</td>\n",
       "      <td>19</td>\n",
       "      <td>20</td>\n",
       "      <td>18</td>\n",
       "      <td>18</td>\n",
       "    </tr>\n",
       "    <tr>\n",
       "      <th>Popularity</th>\n",
       "      <td>3916</td>\n",
       "      <td>3916</td>\n",
       "      <td>3916</td>\n",
       "      <td>3916</td>\n",
       "      <td>3916</td>\n",
       "    </tr>\n",
       "    <tr>\n",
       "      <th>MSRP</th>\n",
       "      <td>46135</td>\n",
       "      <td>40650</td>\n",
       "      <td>36350</td>\n",
       "      <td>29450</td>\n",
       "      <td>34500</td>\n",
       "    </tr>\n",
       "  </tbody>\n",
       "</table>\n",
       "</div>"
      ],
      "text/plain": [
       "                                                       0  \\\n",
       "Make                                                 BMW   \n",
       "Model                                         1 Series M   \n",
       "Year                                                2011   \n",
       "Engine Fuel Type             premium unleaded (required)   \n",
       "Engine HP                                          335.0   \n",
       "Engine Cylinders                                     6.0   \n",
       "Transmission Type                                 MANUAL   \n",
       "Driven_Wheels                           rear wheel drive   \n",
       "Number of Doors                                      2.0   \n",
       "Market Category    Factory Tuner,Luxury,High-Performance   \n",
       "Vehicle Size                                     Compact   \n",
       "Vehicle Style                                      Coupe   \n",
       "highway MPG                                           26   \n",
       "city mpg                                              19   \n",
       "Popularity                                          3916   \n",
       "MSRP                                               46135   \n",
       "\n",
       "                                             1                            2  \\\n",
       "Make                                       BMW                          BMW   \n",
       "Model                                 1 Series                     1 Series   \n",
       "Year                                      2011                         2011   \n",
       "Engine Fuel Type   premium unleaded (required)  premium unleaded (required)   \n",
       "Engine HP                                300.0                        300.0   \n",
       "Engine Cylinders                           6.0                          6.0   \n",
       "Transmission Type                       MANUAL                       MANUAL   \n",
       "Driven_Wheels                 rear wheel drive             rear wheel drive   \n",
       "Number of Doors                            2.0                          2.0   \n",
       "Market Category             Luxury,Performance      Luxury,High-Performance   \n",
       "Vehicle Size                           Compact                      Compact   \n",
       "Vehicle Style                      Convertible                        Coupe   \n",
       "highway MPG                                 28                           28   \n",
       "city mpg                                    19                           20   \n",
       "Popularity                                3916                         3916   \n",
       "MSRP                                     40650                        36350   \n",
       "\n",
       "                                             3                            4  \n",
       "Make                                       BMW                          BMW  \n",
       "Model                                 1 Series                     1 Series  \n",
       "Year                                      2011                         2011  \n",
       "Engine Fuel Type   premium unleaded (required)  premium unleaded (required)  \n",
       "Engine HP                                230.0                        230.0  \n",
       "Engine Cylinders                           6.0                          6.0  \n",
       "Transmission Type                       MANUAL                       MANUAL  \n",
       "Driven_Wheels                 rear wheel drive             rear wheel drive  \n",
       "Number of Doors                            2.0                          2.0  \n",
       "Market Category             Luxury,Performance                       Luxury  \n",
       "Vehicle Size                           Compact                      Compact  \n",
       "Vehicle Style                            Coupe                  Convertible  \n",
       "highway MPG                                 28                           28  \n",
       "city mpg                                    18                           18  \n",
       "Popularity                                3916                         3916  \n",
       "MSRP                                     29450                        34500  "
      ]
     },
     "execution_count": 165,
     "metadata": {},
     "output_type": "execute_result"
    }
   ],
   "source": [
    "df.head().T"
   ]
  },
  {
   "cell_type": "code",
   "execution_count": 166,
   "id": "f2799738-cca5-4e8a-bd76-7d37a84a14ee",
   "metadata": {},
   "outputs": [],
   "source": [
    "df.columns = df.columns.str.replace(' ', '_').str.lower()"
   ]
  },
  {
   "cell_type": "code",
   "execution_count": 167,
   "id": "e568fc27-dc7e-4fe4-bd10-641dec006707",
   "metadata": {},
   "outputs": [],
   "source": [
    "df = df[['make',\n",
    "         'model',\n",
    "         'year',\n",
    "         'engine_hp',\n",
    "         'engine_cylinders',\n",
    "         'transmission_type',\n",
    "         'vehicle_style',\n",
    "         'highway_mpg',\n",
    "         'city_mpg',\n",
    "         'msrp']]"
   ]
  },
  {
   "cell_type": "code",
   "execution_count": 168,
   "id": "50f57dd3-256a-4b3e-a54b-506b41966c7e",
   "metadata": {},
   "outputs": [
    {
     "data": {
      "text/plain": [
       "make                 False\n",
       "model                False\n",
       "year                 False\n",
       "engine_hp             True\n",
       "engine_cylinders      True\n",
       "transmission_type    False\n",
       "vehicle_style        False\n",
       "highway_mpg          False\n",
       "city_mpg             False\n",
       "msrp                 False\n",
       "dtype: bool"
      ]
     },
     "execution_count": 168,
     "metadata": {},
     "output_type": "execute_result"
    }
   ],
   "source": [
    "df.isnull().any()"
   ]
  },
  {
   "cell_type": "code",
   "execution_count": 169,
   "id": "ece123ae-1ecb-4731-9510-c72943f4e88b",
   "metadata": {},
   "outputs": [],
   "source": [
    "df.engine_hp = df.engine_hp.fillna(0)\n",
    "df.engine_cylinders = df.engine_cylinders.fillna(0)"
   ]
  },
  {
   "cell_type": "code",
   "execution_count": 170,
   "id": "2221202b-8576-453e-88d8-f94bd8cb4359",
   "metadata": {},
   "outputs": [],
   "source": [
    "df = df.rename(columns={'msrp': 'price'})"
   ]
  },
  {
   "cell_type": "markdown",
   "id": "8cbe4f69-5349-499a-bb2d-21aa0fb59fee",
   "metadata": {},
   "source": [
    "### Question 1"
   ]
  },
  {
   "cell_type": "markdown",
   "id": "1f8d2621-8874-441a-be44-7ccea43105f9",
   "metadata": {},
   "source": [
    "What is the most frequent observation (mode) for the column `transmission_type`?\n",
    "\n",
    "- **`AUTOMATIC` <--**\n",
    "- `MANUAL`\n",
    "- `AUTOMATED_MANUAL`\n",
    "- `DIRECT_DRIVE`"
   ]
  },
  {
   "cell_type": "code",
   "execution_count": 171,
   "id": "6f573eff-ae16-4f30-9226-479d508aeffd",
   "metadata": {},
   "outputs": [
    {
     "data": {
      "text/plain": [
       "transmission_type\n",
       "AUTOMATIC           8266\n",
       "MANUAL              2935\n",
       "AUTOMATED_MANUAL     626\n",
       "DIRECT_DRIVE          68\n",
       "UNKNOWN               19\n",
       "Name: count, dtype: int64"
      ]
     },
     "execution_count": 171,
     "metadata": {},
     "output_type": "execute_result"
    }
   ],
   "source": [
    "df.transmission_type.value_counts(normalize=False)"
   ]
  },
  {
   "cell_type": "markdown",
   "id": "4660abce-9567-494b-b694-628eefec0a79",
   "metadata": {},
   "source": [
    "### Question 2\n",
    "\n",
    "Create the [correlation matrix](https://www.google.com/search?q=correlation+matrix) for the numerical features of your dataset. \n",
    "In a correlation matrix, you compute the correlation coefficient between every pair of features in the dataset.\n",
    "\n",
    "What are the two features that have the biggest correlation in this dataset?\n",
    "\n",
    "- `engine_hp` and `year`\n",
    "- `engine_hp` and `engine_cylinders`\n",
    "- `highway_mpg` and `engine_cylinders`\n",
    "- **`highway_mpg` and `city_mpg` <--**\n"
   ]
  },
  {
   "cell_type": "code",
   "execution_count": 172,
   "id": "4e97106d-1591-4f12-a116-458e1b78b725",
   "metadata": {},
   "outputs": [],
   "source": [
    "numerical = ['year',\n",
    "             'engine_hp',\n",
    "             'engine_cylinders',\n",
    "             'highway_mpg',\n",
    "             'city_mpg',\n",
    "             'price']\n",
    "\n",
    "categorical = ['make',\n",
    "               'model',\n",
    "               'transmission_type',\n",
    "               'vehicle_style']"
   ]
  },
  {
   "cell_type": "code",
   "execution_count": 173,
   "id": "8659b747-623f-4bd8-923e-9fe7763d863a",
   "metadata": {},
   "outputs": [],
   "source": [
    "matrix = pd.DataFrame()\n",
    "for n in numerical:\n",
    "    col = pd.DataFrame(df[numerical].corrwith(df[n]), columns = [n])\n",
    "    matrix = pd.concat([matrix, col], axis=1)"
   ]
  },
  {
   "cell_type": "code",
   "execution_count": 174,
   "id": "3302a2c8-83c6-4f83-9626-b5b5e1fd204e",
   "metadata": {},
   "outputs": [
    {
     "name": "stdout",
     "output_type": "stream",
     "text": [
      "engine_hp and year 0.3387141847624468\n",
      "engine_hp and engine_cylinders 0.7748509807813194\n",
      "highway_mpg and engine_cylinders -0.6145414173953327\n",
      "highway_mpg and city_mpg 0.8868294962591357\n"
     ]
    }
   ],
   "source": [
    "print(\"engine_hp and year\", matrix.loc['engine_hp','year'])\n",
    "print(\"engine_hp and engine_cylinders\", matrix.loc['engine_hp','engine_cylinders'])\n",
    "print(\"highway_mpg and engine_cylinders\", matrix.loc['highway_mpg','engine_cylinders'])\n",
    "print(\"highway_mpg and city_mpg\", matrix.loc['highway_mpg','city_mpg'])"
   ]
  },
  {
   "cell_type": "markdown",
   "id": "25e245e5-e457-4da0-aba3-18a780e7bd24",
   "metadata": {},
   "source": [
    "### Make `price` binary\n",
    "\n",
    "* Now we need to turn the `price` variable from numeric into a binary format.\n",
    "* Let's create a variable `above_average` which is `1` if the `price` is above its mean value and `0` otherwise.\n"
   ]
  },
  {
   "cell_type": "code",
   "execution_count": 175,
   "id": "35c78ea4-95a2-4eee-b2f7-127a6f8e940c",
   "metadata": {},
   "outputs": [],
   "source": [
    "mean_price = df['price'].mean()"
   ]
  },
  {
   "cell_type": "code",
   "execution_count": 176,
   "id": "71d6e2ae-93b4-4744-82b9-fb8506456d29",
   "metadata": {},
   "outputs": [
    {
     "data": {
      "text/plain": [
       "40594.737032063116"
      ]
     },
     "execution_count": 176,
     "metadata": {},
     "output_type": "execute_result"
    }
   ],
   "source": [
    "mean_price"
   ]
  },
  {
   "cell_type": "code",
   "execution_count": 177,
   "id": "4a5dd4be-3664-4b14-a71b-7b610f42f17b",
   "metadata": {},
   "outputs": [],
   "source": [
    "## Create a new column 'above_average' based on the condition\n",
    "df['above_average'] = df['price'] > mean_price\n",
    "\n",
    "## Convert True/False to 1/0\n",
    "df['above_average'] = df['above_average'].astype(int)"
   ]
  },
  {
   "cell_type": "code",
   "execution_count": 178,
   "id": "652fc8e6-b50e-427c-a880-d3cb068562ac",
   "metadata": {},
   "outputs": [
    {
     "data": {
      "text/html": [
       "<div>\n",
       "<style scoped>\n",
       "    .dataframe tbody tr th:only-of-type {\n",
       "        vertical-align: middle;\n",
       "    }\n",
       "\n",
       "    .dataframe tbody tr th {\n",
       "        vertical-align: top;\n",
       "    }\n",
       "\n",
       "    .dataframe thead th {\n",
       "        text-align: right;\n",
       "    }\n",
       "</style>\n",
       "<table border=\"1\" class=\"dataframe\">\n",
       "  <thead>\n",
       "    <tr style=\"text-align: right;\">\n",
       "      <th></th>\n",
       "      <th>make</th>\n",
       "      <th>model</th>\n",
       "      <th>year</th>\n",
       "      <th>engine_hp</th>\n",
       "      <th>engine_cylinders</th>\n",
       "      <th>transmission_type</th>\n",
       "      <th>vehicle_style</th>\n",
       "      <th>highway_mpg</th>\n",
       "      <th>city_mpg</th>\n",
       "      <th>price</th>\n",
       "      <th>above_average</th>\n",
       "    </tr>\n",
       "  </thead>\n",
       "  <tbody>\n",
       "    <tr>\n",
       "      <th>0</th>\n",
       "      <td>BMW</td>\n",
       "      <td>1 Series M</td>\n",
       "      <td>2011</td>\n",
       "      <td>335.0</td>\n",
       "      <td>6.0</td>\n",
       "      <td>MANUAL</td>\n",
       "      <td>Coupe</td>\n",
       "      <td>26</td>\n",
       "      <td>19</td>\n",
       "      <td>46135</td>\n",
       "      <td>1</td>\n",
       "    </tr>\n",
       "    <tr>\n",
       "      <th>1</th>\n",
       "      <td>BMW</td>\n",
       "      <td>1 Series</td>\n",
       "      <td>2011</td>\n",
       "      <td>300.0</td>\n",
       "      <td>6.0</td>\n",
       "      <td>MANUAL</td>\n",
       "      <td>Convertible</td>\n",
       "      <td>28</td>\n",
       "      <td>19</td>\n",
       "      <td>40650</td>\n",
       "      <td>1</td>\n",
       "    </tr>\n",
       "    <tr>\n",
       "      <th>2</th>\n",
       "      <td>BMW</td>\n",
       "      <td>1 Series</td>\n",
       "      <td>2011</td>\n",
       "      <td>300.0</td>\n",
       "      <td>6.0</td>\n",
       "      <td>MANUAL</td>\n",
       "      <td>Coupe</td>\n",
       "      <td>28</td>\n",
       "      <td>20</td>\n",
       "      <td>36350</td>\n",
       "      <td>0</td>\n",
       "    </tr>\n",
       "    <tr>\n",
       "      <th>3</th>\n",
       "      <td>BMW</td>\n",
       "      <td>1 Series</td>\n",
       "      <td>2011</td>\n",
       "      <td>230.0</td>\n",
       "      <td>6.0</td>\n",
       "      <td>MANUAL</td>\n",
       "      <td>Coupe</td>\n",
       "      <td>28</td>\n",
       "      <td>18</td>\n",
       "      <td>29450</td>\n",
       "      <td>0</td>\n",
       "    </tr>\n",
       "    <tr>\n",
       "      <th>4</th>\n",
       "      <td>BMW</td>\n",
       "      <td>1 Series</td>\n",
       "      <td>2011</td>\n",
       "      <td>230.0</td>\n",
       "      <td>6.0</td>\n",
       "      <td>MANUAL</td>\n",
       "      <td>Convertible</td>\n",
       "      <td>28</td>\n",
       "      <td>18</td>\n",
       "      <td>34500</td>\n",
       "      <td>0</td>\n",
       "    </tr>\n",
       "  </tbody>\n",
       "</table>\n",
       "</div>"
      ],
      "text/plain": [
       "  make       model  year  engine_hp  engine_cylinders transmission_type  \\\n",
       "0  BMW  1 Series M  2011      335.0               6.0            MANUAL   \n",
       "1  BMW    1 Series  2011      300.0               6.0            MANUAL   \n",
       "2  BMW    1 Series  2011      300.0               6.0            MANUAL   \n",
       "3  BMW    1 Series  2011      230.0               6.0            MANUAL   \n",
       "4  BMW    1 Series  2011      230.0               6.0            MANUAL   \n",
       "\n",
       "  vehicle_style  highway_mpg  city_mpg  price  above_average  \n",
       "0         Coupe           26        19  46135              1  \n",
       "1   Convertible           28        19  40650              1  \n",
       "2         Coupe           28        20  36350              0  \n",
       "3         Coupe           28        18  29450              0  \n",
       "4   Convertible           28        18  34500              0  "
      ]
     },
     "execution_count": 178,
     "metadata": {},
     "output_type": "execute_result"
    }
   ],
   "source": [
    "df.head()"
   ]
  },
  {
   "cell_type": "markdown",
   "id": "da0a434e-0247-4e09-b244-c33b8f3b99bc",
   "metadata": {},
   "source": [
    "### Split the data\n",
    "\n",
    "* Split your data in train/val/test sets with 60%/20%/20% distribution.\n",
    "* Use Scikit-Learn for that (the `train_test_split` function) and set the seed to `42`.\n",
    "* Make sure that the target value (`price`) is not in your dataframe."
   ]
  },
  {
   "cell_type": "code",
   "execution_count": 179,
   "id": "21aafa35-0e2a-411b-b208-3ccab673ff03",
   "metadata": {},
   "outputs": [
    {
     "data": {
      "text/plain": [
       "(7148, 2383, 2383)"
      ]
     },
     "execution_count": 179,
     "metadata": {},
     "output_type": "execute_result"
    }
   ],
   "source": [
    "from sklearn.model_selection import train_test_split\n",
    "df_full_train, df_test = train_test_split(df, test_size=0.2, random_state=42)\n",
    "df_train, df_val = train_test_split(df_full_train, test_size=0.25, random_state=42)\n",
    "len(df_train), len(df_test), len(df_val)"
   ]
  },
  {
   "cell_type": "code",
   "execution_count": 180,
   "id": "81b5727d-edae-4d7f-ab07-6a089dec2e18",
   "metadata": {},
   "outputs": [],
   "source": [
    "df_train = df_train.reset_index(drop=True)\n",
    "df_test = df_test.reset_index(drop=True)\n",
    "df_val = df_val.reset_index(drop=True)"
   ]
  },
  {
   "cell_type": "code",
   "execution_count": 181,
   "id": "a9ddf0be-489a-4cba-a72b-c27abdfe844a",
   "metadata": {},
   "outputs": [],
   "source": [
    "## Assign Y variable as 'above_average' for each set - do not use 'price' as target variable\n",
    "y_train = df_train.above_average.values\n",
    "y_test = df_test.above_average.values\n",
    "y_val = df_val.above_average.values"
   ]
  },
  {
   "cell_type": "code",
   "execution_count": 182,
   "id": "a0d19564-6df2-4055-9680-4fc6fcf5c35b",
   "metadata": {
    "scrolled": true
   },
   "outputs": [],
   "source": [
    "del df_train['price']\n",
    "del df_test['price']\n",
    "del df_val['price']"
   ]
  },
  {
   "cell_type": "code",
   "execution_count": 183,
   "id": "68a06c41-daa4-4eae-8d2e-134b7c4d33f3",
   "metadata": {},
   "outputs": [
    {
     "data": {
      "text/plain": [
       "array([0, 0, 0, ..., 0, 0, 1])"
      ]
     },
     "execution_count": 183,
     "metadata": {},
     "output_type": "execute_result"
    }
   ],
   "source": [
    "y_test"
   ]
  },
  {
   "cell_type": "markdown",
   "id": "064a5518-1dd1-4128-9051-9eb7ab929d70",
   "metadata": {},
   "source": [
    "### Question 3\n",
    "\n",
    "* Calculate the mutual information score between `above_average` and other categorical variables in our dataset. \n",
    "  Use the training set only.\n",
    "* Round the scores to 2 decimals using `round(score, 2)`.\n",
    "\n",
    "Which of these variables has the lowest mutual information score?\n",
    "  \n",
    "- `make`\n",
    "- `model`\n",
    "- **`transmission_type` <--**\n",
    "- `vehicle_style`\n"
   ]
  },
  {
   "cell_type": "code",
   "execution_count": 184,
   "id": "7795df8f-b151-4c2c-94fa-ffae87d18500",
   "metadata": {},
   "outputs": [],
   "source": [
    "from sklearn.metrics import mutual_info_score"
   ]
  },
  {
   "cell_type": "code",
   "execution_count": 185,
   "id": "8357e672-58c5-4fb5-9bcb-bafdd2a3d0b8",
   "metadata": {},
   "outputs": [
    {
     "data": {
      "text/plain": [
       "['make', 'model', 'transmission_type', 'vehicle_style']"
      ]
     },
     "execution_count": 185,
     "metadata": {},
     "output_type": "execute_result"
    }
   ],
   "source": [
    "categorical"
   ]
  },
  {
   "cell_type": "code",
   "execution_count": 186,
   "id": "140d27bb-b100-4cb3-8801-453850ae7568",
   "metadata": {},
   "outputs": [
    {
     "name": "stdout",
     "output_type": "stream",
     "text": [
      "make 0.24\n",
      "model 0.46\n",
      "transmission_type 0.02\n",
      "vehicle_style 0.08\n"
     ]
    }
   ],
   "source": [
    "for c in categorical:\n",
    "    print(c, round(mutual_info_score(df_full_train.above_average, df_full_train[c]), 2))"
   ]
  },
  {
   "cell_type": "markdown",
   "id": "4c3a8ff4-5a31-4022-aeac-173cfe51db91",
   "metadata": {},
   "source": [
    "### Question 4\n",
    "\n",
    "* Now let's train a logistic regression.\n",
    "* Remember that we have several categorical variables in the dataset. Include them using one-hot encoding.\n",
    "* Fit the model on the training dataset.\n",
    "    - To make sure the results are reproducible across different versions of Scikit-Learn, fit the model with these parameters:\n",
    "    - `model = LogisticRegression(solver='liblinear', C=10, max_iter=1000, random_state=42)`\n",
    "* Calculate the accuracy on the validation dataset and round it to 2 decimal digits.\n",
    "\n",
    "What accuracy did you get?\n",
    "\n",
    "- 0.60\n",
    "- 0.72\n",
    "- 0.84\n",
    "- **0.95 <--**"
   ]
  },
  {
   "cell_type": "code",
   "execution_count": 187,
   "id": "83fbc6ad-95c7-4fca-98d4-4616216eaf98",
   "metadata": {},
   "outputs": [],
   "source": [
    "from sklearn.feature_extraction import DictVectorizer"
   ]
  },
  {
   "cell_type": "code",
   "execution_count": 188,
   "id": "168ac7d5-56d6-4447-8463-d4fb01d37801",
   "metadata": {},
   "outputs": [],
   "source": [
    "numerical = ['year',\n",
    "             'engine_hp',\n",
    "             'engine_cylinders',\n",
    "             'highway_mpg',\n",
    "             'city_mpg']\n",
    "\n",
    "categorical = ['make',\n",
    "               'model',\n",
    "               'transmission_type',\n",
    "               'vehicle_style']"
   ]
  },
  {
   "cell_type": "code",
   "execution_count": 189,
   "id": "d7a7e144-9042-433f-8a58-de27250b481b",
   "metadata": {
    "scrolled": true
   },
   "outputs": [],
   "source": [
    "dv = DictVectorizer(sparse=False) #Initializing\n",
    "train_dict = df_train[categorical + numerical].to_dict(orient='records') # Turn categorical and numerical variables into a dictionary \n",
    "X_train = dv.fit_transform(train_dict) # Teach the vectorizer what values are present\n",
    "\n",
    "val_dict = df_val[categorical + numerical].to_dict(orient='records')\n",
    "X_val = dv.transform(val_dict)"
   ]
  },
  {
   "cell_type": "code",
   "execution_count": 190,
   "id": "74bd94a7-caf7-43be-8928-fc904639abb6",
   "metadata": {},
   "outputs": [],
   "source": [
    "from sklearn.linear_model import LogisticRegression"
   ]
  },
  {
   "cell_type": "code",
   "execution_count": 191,
   "id": "83b685aa-feb7-4f6e-833f-013923da423c",
   "metadata": {},
   "outputs": [
    {
     "data": {
      "text/html": [
       "<style>#sk-container-id-5 {color: black;}#sk-container-id-5 pre{padding: 0;}#sk-container-id-5 div.sk-toggleable {background-color: white;}#sk-container-id-5 label.sk-toggleable__label {cursor: pointer;display: block;width: 100%;margin-bottom: 0;padding: 0.3em;box-sizing: border-box;text-align: center;}#sk-container-id-5 label.sk-toggleable__label-arrow:before {content: \"▸\";float: left;margin-right: 0.25em;color: #696969;}#sk-container-id-5 label.sk-toggleable__label-arrow:hover:before {color: black;}#sk-container-id-5 div.sk-estimator:hover label.sk-toggleable__label-arrow:before {color: black;}#sk-container-id-5 div.sk-toggleable__content {max-height: 0;max-width: 0;overflow: hidden;text-align: left;background-color: #f0f8ff;}#sk-container-id-5 div.sk-toggleable__content pre {margin: 0.2em;color: black;border-radius: 0.25em;background-color: #f0f8ff;}#sk-container-id-5 input.sk-toggleable__control:checked~div.sk-toggleable__content {max-height: 200px;max-width: 100%;overflow: auto;}#sk-container-id-5 input.sk-toggleable__control:checked~label.sk-toggleable__label-arrow:before {content: \"▾\";}#sk-container-id-5 div.sk-estimator input.sk-toggleable__control:checked~label.sk-toggleable__label {background-color: #d4ebff;}#sk-container-id-5 div.sk-label input.sk-toggleable__control:checked~label.sk-toggleable__label {background-color: #d4ebff;}#sk-container-id-5 input.sk-hidden--visually {border: 0;clip: rect(1px 1px 1px 1px);clip: rect(1px, 1px, 1px, 1px);height: 1px;margin: -1px;overflow: hidden;padding: 0;position: absolute;width: 1px;}#sk-container-id-5 div.sk-estimator {font-family: monospace;background-color: #f0f8ff;border: 1px dotted black;border-radius: 0.25em;box-sizing: border-box;margin-bottom: 0.5em;}#sk-container-id-5 div.sk-estimator:hover {background-color: #d4ebff;}#sk-container-id-5 div.sk-parallel-item::after {content: \"\";width: 100%;border-bottom: 1px solid gray;flex-grow: 1;}#sk-container-id-5 div.sk-label:hover label.sk-toggleable__label {background-color: #d4ebff;}#sk-container-id-5 div.sk-serial::before {content: \"\";position: absolute;border-left: 1px solid gray;box-sizing: border-box;top: 0;bottom: 0;left: 50%;z-index: 0;}#sk-container-id-5 div.sk-serial {display: flex;flex-direction: column;align-items: center;background-color: white;padding-right: 0.2em;padding-left: 0.2em;position: relative;}#sk-container-id-5 div.sk-item {position: relative;z-index: 1;}#sk-container-id-5 div.sk-parallel {display: flex;align-items: stretch;justify-content: center;background-color: white;position: relative;}#sk-container-id-5 div.sk-item::before, #sk-container-id-5 div.sk-parallel-item::before {content: \"\";position: absolute;border-left: 1px solid gray;box-sizing: border-box;top: 0;bottom: 0;left: 50%;z-index: -1;}#sk-container-id-5 div.sk-parallel-item {display: flex;flex-direction: column;z-index: 1;position: relative;background-color: white;}#sk-container-id-5 div.sk-parallel-item:first-child::after {align-self: flex-end;width: 50%;}#sk-container-id-5 div.sk-parallel-item:last-child::after {align-self: flex-start;width: 50%;}#sk-container-id-5 div.sk-parallel-item:only-child::after {width: 0;}#sk-container-id-5 div.sk-dashed-wrapped {border: 1px dashed gray;margin: 0 0.4em 0.5em 0.4em;box-sizing: border-box;padding-bottom: 0.4em;background-color: white;}#sk-container-id-5 div.sk-label label {font-family: monospace;font-weight: bold;display: inline-block;line-height: 1.2em;}#sk-container-id-5 div.sk-label-container {text-align: center;}#sk-container-id-5 div.sk-container {/* jupyter's `normalize.less` sets `[hidden] { display: none; }` but bootstrap.min.css set `[hidden] { display: none !important; }` so we also need the `!important` here to be able to override the default hidden behavior on the sphinx rendered scikit-learn.org. See: https://github.com/scikit-learn/scikit-learn/issues/21755 */display: inline-block !important;position: relative;}#sk-container-id-5 div.sk-text-repr-fallback {display: none;}</style><div id=\"sk-container-id-5\" class=\"sk-top-container\"><div class=\"sk-text-repr-fallback\"><pre>LogisticRegression(C=10, max_iter=1000, random_state=42, solver=&#x27;liblinear&#x27;)</pre><b>In a Jupyter environment, please rerun this cell to show the HTML representation or trust the notebook. <br />On GitHub, the HTML representation is unable to render, please try loading this page with nbviewer.org.</b></div><div class=\"sk-container\" hidden><div class=\"sk-item\"><div class=\"sk-estimator sk-toggleable\"><input class=\"sk-toggleable__control sk-hidden--visually\" id=\"sk-estimator-id-5\" type=\"checkbox\" checked><label for=\"sk-estimator-id-5\" class=\"sk-toggleable__label sk-toggleable__label-arrow\">LogisticRegression</label><div class=\"sk-toggleable__content\"><pre>LogisticRegression(C=10, max_iter=1000, random_state=42, solver=&#x27;liblinear&#x27;)</pre></div></div></div></div></div>"
      ],
      "text/plain": [
       "LogisticRegression(C=10, max_iter=1000, random_state=42, solver='liblinear')"
      ]
     },
     "execution_count": 191,
     "metadata": {},
     "output_type": "execute_result"
    }
   ],
   "source": [
    "model = LogisticRegression(solver='liblinear', C=10, max_iter=1000, random_state=42)\n",
    "model.fit(X_train, y_train) # Fitting the model "
   ]
  },
  {
   "cell_type": "code",
   "execution_count": 192,
   "id": "a542af02-acde-47e3-932c-d5641596bab2",
   "metadata": {},
   "outputs": [],
   "source": [
    "y_pred = model.predict_proba(X_val)[:, 1] # Returns the probability of price being > average\n",
    "y_price_above_mean = (y_pred >= 0.5) # 0.5 threshold returns binary predictions"
   ]
  },
  {
   "cell_type": "code",
   "execution_count": 193,
   "id": "a29eac67-d615-47f4-a655-352490ee007a",
   "metadata": {},
   "outputs": [],
   "source": [
    "df_pred = pd.DataFrame()\n",
    "df_pred['probability'] = y_pred # \"Soft predictions\" - probability that the price is above mean\n",
    "df_pred['prediction'] = y_price_above_mean.astype(int)\n",
    "df_pred['actual'] = y_val\n",
    "df_pred['correct'] = df_pred.prediction == df_pred.actual\n",
    "\n",
    "accuracy = df_pred.correct.mean().round(2) # Accuracy"
   ]
  },
  {
   "cell_type": "code",
   "execution_count": 194,
   "id": "1a890e1c-b539-4a86-9d40-bd2a6c77d455",
   "metadata": {},
   "outputs": [],
   "source": [
    "df_pred['correct'] = df_pred.prediction == df_pred.actual"
   ]
  },
  {
   "cell_type": "code",
   "execution_count": 195,
   "id": "80be035a-a1d2-4767-a6ff-c1f2e9d61678",
   "metadata": {},
   "outputs": [
    {
     "data": {
      "text/html": [
       "<div>\n",
       "<style scoped>\n",
       "    .dataframe tbody tr th:only-of-type {\n",
       "        vertical-align: middle;\n",
       "    }\n",
       "\n",
       "    .dataframe tbody tr th {\n",
       "        vertical-align: top;\n",
       "    }\n",
       "\n",
       "    .dataframe thead th {\n",
       "        text-align: right;\n",
       "    }\n",
       "</style>\n",
       "<table border=\"1\" class=\"dataframe\">\n",
       "  <thead>\n",
       "    <tr style=\"text-align: right;\">\n",
       "      <th></th>\n",
       "      <th>probability</th>\n",
       "      <th>prediction</th>\n",
       "      <th>actual</th>\n",
       "      <th>correct</th>\n",
       "    </tr>\n",
       "  </thead>\n",
       "  <tbody>\n",
       "    <tr>\n",
       "      <th>0</th>\n",
       "      <td>0.008735</td>\n",
       "      <td>0</td>\n",
       "      <td>0</td>\n",
       "      <td>True</td>\n",
       "    </tr>\n",
       "    <tr>\n",
       "      <th>1</th>\n",
       "      <td>0.990333</td>\n",
       "      <td>1</td>\n",
       "      <td>1</td>\n",
       "      <td>True</td>\n",
       "    </tr>\n",
       "    <tr>\n",
       "      <th>2</th>\n",
       "      <td>0.001575</td>\n",
       "      <td>0</td>\n",
       "      <td>0</td>\n",
       "      <td>True</td>\n",
       "    </tr>\n",
       "    <tr>\n",
       "      <th>3</th>\n",
       "      <td>0.403872</td>\n",
       "      <td>0</td>\n",
       "      <td>0</td>\n",
       "      <td>True</td>\n",
       "    </tr>\n",
       "    <tr>\n",
       "      <th>4</th>\n",
       "      <td>0.003179</td>\n",
       "      <td>0</td>\n",
       "      <td>0</td>\n",
       "      <td>True</td>\n",
       "    </tr>\n",
       "  </tbody>\n",
       "</table>\n",
       "</div>"
      ],
      "text/plain": [
       "   probability  prediction  actual  correct\n",
       "0     0.008735           0       0     True\n",
       "1     0.990333           1       1     True\n",
       "2     0.001575           0       0     True\n",
       "3     0.403872           0       0     True\n",
       "4     0.003179           0       0     True"
      ]
     },
     "execution_count": 195,
     "metadata": {},
     "output_type": "execute_result"
    }
   ],
   "source": [
    "df_pred.head()"
   ]
  },
  {
   "cell_type": "code",
   "execution_count": 196,
   "id": "4c837d89-6045-4c85-b609-b924b645e125",
   "metadata": {},
   "outputs": [],
   "source": [
    "accuracy = df_pred.correct.mean().round(2) # Accuracy"
   ]
  },
  {
   "cell_type": "code",
   "execution_count": 197,
   "id": "e1965954-1e97-487c-bee1-f99526a23f8e",
   "metadata": {},
   "outputs": [
    {
     "data": {
      "text/plain": [
       "0.93"
      ]
     },
     "execution_count": 197,
     "metadata": {},
     "output_type": "execute_result"
    }
   ],
   "source": [
    "accuracy"
   ]
  },
  {
   "cell_type": "markdown",
   "id": "d4eb69da-d3e4-4776-bfb4-fdf81b838581",
   "metadata": {},
   "source": [
    "### Question 5 \n",
    "\n",
    "* Let's find the least useful feature using the *feature elimination* technique.\n",
    "* Train a model with all these features (using the same parameters as in Q4).\n",
    "* Now exclude each feature from this set and train a model without it. Record the accuracy for each model.\n",
    "* For each feature, calculate the difference between the original accuracy and the accuracy without the feature. \n",
    "\n",
    "Which of following feature has the smallest difference?\n",
    "\n",
    "- `year`\n",
    "- **`engine_hp` <--**\n",
    "- `transmission_type`\n",
    "- `city_mpg`\n",
    "\n",
    "> **Note**: the difference doesn't have to be positive"
   ]
  },
  {
   "cell_type": "code",
   "execution_count": 198,
   "id": "2b73af9a-54bb-45a8-91d7-65d3ceb38b84",
   "metadata": {},
   "outputs": [
    {
     "name": "stdout",
     "output_type": "stream",
     "text": [
      "make -0.015027276542173729 0.9450272765421738\n",
      "model 0.005954678976080596 0.9240453210239195\n",
      "transmission_type -0.015866554762903884 0.9458665547629039\n",
      "vehicle_style -0.0028577423415862002 0.9328577423415862\n",
      "year -0.017545111204364194 0.9475451112043642\n",
      "engine_hp 7.973143096939861e-05 0.9299202685690307\n",
      "engine_cylinders -0.015866554762903884 0.9458665547629039\n",
      "highway_mpg -0.01670583298363404 0.9467058329836341\n",
      "city_mpg -0.015866554762903884 0.9458665547629039\n"
     ]
    }
   ],
   "source": [
    "orig_score = accuracy\n",
    "features = categorical + numerical\n",
    "\n",
    "for f in features:\n",
    "    dv = DictVectorizer(sparse=False) #Initializing\n",
    "    sub = features.copy()\n",
    "    sub.remove(f)\n",
    "\n",
    "    train_dict = df_train[sub].to_dict(orient='records') # Turn categorical and numerical variables into a dictionary \n",
    "    X_train = dv.fit_transform(train_dict) # Teach the vectorizer what values are present\n",
    "\n",
    "    model = LogisticRegression(solver='liblinear', C=10, max_iter=1000, random_state=42)\n",
    "    model.fit(X_train, y_train) # Fitting the model \n",
    "    \n",
    "    val_dict = df_val[sub].to_dict(orient='records')\n",
    "    X_val = dv.transform(val_dict)\n",
    "\n",
    "    y_pred = model.predict_proba(X_val)[:, 1] # Returns the probability of price being > average\n",
    "    y_price_above_mean = (y_pred >= 0.5) # 0.5 threshold returns binary predictions\n",
    "\n",
    "    df_pred = pd.DataFrame()\n",
    "    df_pred['probability'] = y_pred # \"Soft predictions\" - probability that the price is above mean\n",
    "    df_pred['prediction'] = y_price_above_mean.astype(int)\n",
    "    df_pred['actual'] = y_val\n",
    "    df_pred['correct'] = df_pred.prediction == df_pred.actual\n",
    "\n",
    "    subset_score = df_pred.correct.mean() # Accuracy\n",
    "    print(f, orig_score - subset_score, subset_score)"
   ]
  },
  {
   "cell_type": "markdown",
   "id": "a81cd569-beb4-4e06-aa2f-dfe03a0464f8",
   "metadata": {},
   "source": [
    "### Question 6\n",
    "\n",
    "* For this question, we'll see how to use a linear regression model from Scikit-Learn.\n",
    "* We'll need to use the original column `price`. Apply the logarithmic transformation to this column.\n",
    "* Fit the Ridge regression model on the training data with a solver `'sag'`. Set the seed to `42`.\n",
    "* This model also has a parameter `alpha`. Let's try the following values: `[0, 0.01, 0.1, 1, 10]`.\n",
    "* Round your RMSE scores to 3 decimal digits.\n",
    "\n",
    "Which of these alphas leads to the best RMSE on the validation set?"
   ]
  },
  {
   "cell_type": "code",
   "execution_count": 199,
   "id": "ff3295ba-7632-4e53-a27c-b55307ff88e2",
   "metadata": {},
   "outputs": [],
   "source": [
    "from sklearn.linear_model import LinearRegression\n",
    "from sklearn.linear_model import Ridge\n",
    "from sklearn.model_selection import train_test_split"
   ]
  },
  {
   "cell_type": "code",
   "execution_count": 200,
   "id": "4638c880-1fdf-4bf7-a0ee-77ead71cdafd",
   "metadata": {},
   "outputs": [],
   "source": [
    "df['log_price'] = np.log(df['price'])"
   ]
  },
  {
   "cell_type": "code",
   "execution_count": 201,
   "id": "733215e8-0d53-4d4c-a7c9-56ab13fde1fd",
   "metadata": {},
   "outputs": [
    {
     "data": {
      "text/plain": [
       "(7148, 2383, 2383)"
      ]
     },
     "execution_count": 201,
     "metadata": {},
     "output_type": "execute_result"
    }
   ],
   "source": [
    "df_full_train, df_test = train_test_split(df, test_size=0.2, random_state=42)\n",
    "df_train, df_val = train_test_split(df_full_train, test_size=0.25, random_state=42)\n",
    "\n",
    "df_train = df_train.reset_index(drop=True)\n",
    "df_test = df_test.reset_index(drop=True)\n",
    "df_val = df_val.reset_index(drop=True)\n",
    "\n",
    "## Assign Y variable as 'above_average' for each set - do not use 'price' as target variable\n",
    "y_train = df_train.log_price.values\n",
    "y_test = df_test.log_price.values\n",
    "y_val = df_val.log_price.values\n",
    "\n",
    "len(df_train), len(df_test), len(df_val)"
   ]
  },
  {
   "cell_type": "code",
   "execution_count": 202,
   "id": "fa57becd-83fa-43c6-aba2-18002cfd3f47",
   "metadata": {},
   "outputs": [],
   "source": [
    "numerical = ['year',\n",
    "             'engine_hp',\n",
    "             'engine_cylinders',\n",
    "             'highway_mpg',\n",
    "             'city_mpg']\n",
    "\n",
    "categorical = ['make',\n",
    "               'model',\n",
    "               'transmission_type',\n",
    "               'vehicle_style']"
   ]
  },
  {
   "cell_type": "code",
   "execution_count": 203,
   "id": "c1590e45-383b-4d4a-9cba-ee371d1c17f3",
   "metadata": {},
   "outputs": [],
   "source": [
    "# RMSE \n",
    "def rmse(y, y_pred):\n",
    "    error = y - y_pred\n",
    "    se = error ** 2\n",
    "    mse = se.mean()\n",
    "    return np.sqrt(mse)"
   ]
  },
  {
   "cell_type": "code",
   "execution_count": 204,
   "id": "acb654b1-03c9-43db-bfdb-091b09c5cf88",
   "metadata": {},
   "outputs": [],
   "source": [
    "dv = DictVectorizer(sparse=False) #Initializing\n",
    "train_dict = df_train[categorical + numerical].to_dict(orient='records') # Turn categorical and numerical variables into a dictionary \n",
    "X_train = dv.fit_transform(train_dict) # Teach the vectorizer what values are present\n",
    "\n",
    "val_dict = df_val[categorical + numerical].to_dict(orient='records')\n",
    "X_val = dv.transform(val_dict)"
   ]
  },
  {
   "cell_type": "code",
   "execution_count": 162,
   "id": "9436c554-db5a-4a8d-95d2-bdd2be9c9896",
   "metadata": {},
   "outputs": [
    {
     "name": "stderr",
     "output_type": "stream",
     "text": [
      "/Users/elias/Library/Caches/pypoetry/virtualenvs/machine-learning-zoomcamp-OlxYtftY-py3.11/lib/python3.11/site-packages/sklearn/linear_model/_sag.py:350: ConvergenceWarning: The max_iter was reached which means the coef_ did not converge\n",
      "  warnings.warn(\n"
     ]
    },
    {
     "name": "stdout",
     "output_type": "stream",
     "text": [
      "0.0 0.487\n"
     ]
    },
    {
     "name": "stderr",
     "output_type": "stream",
     "text": [
      "/Users/elias/Library/Caches/pypoetry/virtualenvs/machine-learning-zoomcamp-OlxYtftY-py3.11/lib/python3.11/site-packages/sklearn/linear_model/_sag.py:350: ConvergenceWarning: The max_iter was reached which means the coef_ did not converge\n",
      "  warnings.warn(\n"
     ]
    },
    {
     "name": "stdout",
     "output_type": "stream",
     "text": [
      "0.01 0.487\n"
     ]
    },
    {
     "name": "stderr",
     "output_type": "stream",
     "text": [
      "/Users/elias/Library/Caches/pypoetry/virtualenvs/machine-learning-zoomcamp-OlxYtftY-py3.11/lib/python3.11/site-packages/sklearn/linear_model/_sag.py:350: ConvergenceWarning: The max_iter was reached which means the coef_ did not converge\n",
      "  warnings.warn(\n"
     ]
    },
    {
     "name": "stdout",
     "output_type": "stream",
     "text": [
      "0.1 0.487\n"
     ]
    },
    {
     "name": "stderr",
     "output_type": "stream",
     "text": [
      "/Users/elias/Library/Caches/pypoetry/virtualenvs/machine-learning-zoomcamp-OlxYtftY-py3.11/lib/python3.11/site-packages/sklearn/linear_model/_sag.py:350: ConvergenceWarning: The max_iter was reached which means the coef_ did not converge\n",
      "  warnings.warn(\n"
     ]
    },
    {
     "name": "stdout",
     "output_type": "stream",
     "text": [
      "1 0.487\n",
      "10 0.487\n"
     ]
    },
    {
     "name": "stderr",
     "output_type": "stream",
     "text": [
      "/Users/elias/Library/Caches/pypoetry/virtualenvs/machine-learning-zoomcamp-OlxYtftY-py3.11/lib/python3.11/site-packages/sklearn/linear_model/_sag.py:350: ConvergenceWarning: The max_iter was reached which means the coef_ did not converge\n",
      "  warnings.warn(\n"
     ]
    }
   ],
   "source": [
    "for a in [0.0, 0.01, 0.1, 1, 10]:\n",
    "    model = Ridge(solver='sag', max_iter=1000, random_state=42, alpha=a)\n",
    "    model.fit(X_train, y_train) # Fitting the model \n",
    "    y_pred = model.predict(X_val)\n",
    "    score = round(rmse(y_val, y_pred), 3)\n",
    "    print(a, score)\n",
    "    "
   ]
  },
  {
   "cell_type": "code",
   "execution_count": null,
   "id": "cd4e18b0-021a-4d23-bf99-8e23a5882b80",
   "metadata": {
    "jupyter": {
     "source_hidden": true
    }
   },
   "outputs": [],
   "source": [
    "    "
   ]
  }
 ],
 "metadata": {
  "kernelspec": {
   "display_name": "Python 3 (ipykernel)",
   "language": "python",
   "name": "python3"
  },
  "language_info": {
   "codemirror_mode": {
    "name": "ipython",
    "version": 3
   },
   "file_extension": ".py",
   "mimetype": "text/x-python",
   "name": "python",
   "nbconvert_exporter": "python",
   "pygments_lexer": "ipython3",
   "version": "3.11.4"
  }
 },
 "nbformat": 4,
 "nbformat_minor": 5
}
