{
 "cells": [
  {
   "cell_type": "code",
   "execution_count": 9,
   "id": "62c3f21d-8221-4d97-a069-53448b38dd68",
   "metadata": {},
   "outputs": [],
   "source": [
    "import pandas as pd\n",
    "import numpy as np\n",
    "import matplotlib.pyplot as plt\n",
    "import seaborn as sns"
   ]
  },
  {
   "cell_type": "code",
   "execution_count": 5,
   "id": "bb4230d6-f79b-4d49-994a-65d186c2f080",
   "metadata": {
    "collapsed": true,
    "jupyter": {
     "outputs_hidden": true
    },
    "scrolled": true
   },
   "outputs": [
    {
     "name": "stdout",
     "output_type": "stream",
     "text": [
      "Running `brew update --auto-update`...\n",
      "\u0007\u001b[34m==>\u001b[0m \u001b[1mHomebrew collects anonymous analytics.\u001b[0m\n",
      "\u001b[1mRead the analytics documentation (and how to opt-out) here:\n",
      "  \u001b[4mhttps://docs.brew.sh/Analytics\u001b[24m\u001b[0m\n",
      "No analytics have been recorded yet (nor will be during this `brew` run).\n",
      "\n",
      "\u001b[34m==>\u001b[0m \u001b[1mHomebrew is run entirely by unpaid volunteers. Please consider donating:\u001b[0m\n",
      "  \u001b[4mhttps://github.com/Homebrew/brew#donations\u001b[24m\n",
      "\n",
      "\u001b[34m==>\u001b[0m \u001b[1mAuto-updated Homebrew!\u001b[0m\n",
      "Updated 2 taps (homebrew/core and homebrew/cask).\n",
      "\u001b[34m==>\u001b[0m \u001b[1mNew Formulae\u001b[0m\n",
      "apify-cli                                libmapper\n",
      "apprise                                  libxmlb\n",
      "asn                                      llvm@16\n",
      "bazel-diff                               mariadb@11.0\n",
      "bazel-remote                             meson-python\n",
      "biome                                    mfem\n",
      "blake3                                   mgis\n",
      "cargo-all-features                       modsecurity\n",
      "cargo-binutils                           mtbl\n",
      "cargo-deps                               orbiton\n",
      "cargo-docset                             orcania\n",
      "cdxgen                                   postgresql@16\n",
      "chaoskube                                powerlevel10k\n",
      "checkdmarc                               pwned\n",
      "cloud-sql-proxy                          pyspelling\n",
      "cloudfox                                 pystring\n",
      "codelimit                                python-click\n",
      "colmap                                   python-flit-core\n",
      "counts                                   python-lxml\n",
      "cryptopp                                 python-markupsafe\n",
      "cyclonedx-gomod                          python-mutagen\n",
      "cyclonedx-python                         python-packaging\n",
      "dovi_tool                                python-pycurl\n",
      "eza                                      python-pyparsing\n",
      "falco                                    python-pyproject-hooks\n",
      "falcoctl                                 python-pytz\n",
      "fwupd                                    recoverpy\n",
      "gickup                                   risor\n",
      "gismo                                    roadrunner\n",
      "gitea                                    spacer\n",
      "goread                                   surelog\n",
      "gotestwaf                                tailwindcss\n",
      "helidon                                  talhelper\n",
      "hyfetch                                  terraform-graph-beautifier\n",
      "imgdiet                                  tf-profile\n",
      "imgdiff                                  toxiproxy\n",
      "jr                                       udp2raw-multiplatform\n",
      "json2ts                                  uffizzi\n",
      "kor                                      uhdm\n",
      "kosli-cli                                vulkan-utility-libraries\n",
      "ldid-procursus                           vunnel\n",
      "libgit2@1.6                              web-ext\n",
      "libimobiledevice-glue                    woodpecker-cli\n",
      "libjcat                                  yder\n",
      "\u001b[34m==>\u001b[0m \u001b[1mNew Casks\u001b[0m\n",
      "aifun               dropshelf           piphero             spundle\n",
      "akuity              expo-orbit          playdate-mirror     twelite-stage\n",
      "ava                 floorp              proxy-audio-device  updf\n",
      "batteryboi          hhkb                recipeui            viso\n",
      "chainner            hypercal            reqable             wetype\n",
      "clickhouse          kreya               rippling            wiso-steuer-2022\n",
      "clinq               meld-studio         rustrover           wiso-steuer-2023\n",
      "cloudnet            monotype            simple-web-server   zui\n",
      "draw-things         mutedeck            sparkplate\n",
      "\n",
      "You have \u001b[1m5\u001b[0m outdated formulae installed.\n",
      "\n",
      "\u001b[34m==>\u001b[0m \u001b[1mDownloading https://ghcr.io/v2/homebrew/core/wget/manifests/1.21.4\u001b[0m\n",
      "######################################################################### 100.0%\n",
      "\u001b[32m==>\u001b[0m \u001b[1mFetching dependencies for wget: \u001b[32mlibunistring\u001b[39m and \u001b[32mlibidn2\u001b[39m\u001b[0m\n",
      "\u001b[34m==>\u001b[0m \u001b[1mDownloading https://ghcr.io/v2/homebrew/core/libunistring/manifests/1.1\u001b[0m\n",
      "######################################################################### 100.0%\n",
      "\u001b[32m==>\u001b[0m \u001b[1mFetching \u001b[32mlibunistring\u001b[39m\u001b[0m\n",
      "\u001b[34m==>\u001b[0m \u001b[1mDownloading https://ghcr.io/v2/homebrew/core/libunistring/blobs/sha256:10dbd\u001b[0m\n",
      "######################################################################### 100.0%\n",
      "\u001b[34m==>\u001b[0m \u001b[1mDownloading https://ghcr.io/v2/homebrew/core/libidn2/manifests/2.3.4_1-1\u001b[0m\n",
      "######################################################################### 100.0%\n",
      "\u001b[32m==>\u001b[0m \u001b[1mFetching \u001b[32mlibidn2\u001b[39m\u001b[0m\n",
      "\u001b[34m==>\u001b[0m \u001b[1mDownloading https://ghcr.io/v2/homebrew/core/libidn2/blobs/sha256:322028f5aa\u001b[0m\n",
      "######################################################################### 100.0%\n",
      "\u001b[32m==>\u001b[0m \u001b[1mFetching \u001b[32mwget\u001b[39m\u001b[0m\n",
      "\u001b[34m==>\u001b[0m \u001b[1mDownloading https://ghcr.io/v2/homebrew/core/wget/blobs/sha256:f1d0f59e9cd58\u001b[0m\n",
      "######################################################################### 100.0%\n",
      "\u001b[32m==>\u001b[0m \u001b[1mInstalling dependencies for wget: \u001b[32mlibunistring\u001b[39m and \u001b[32mlibidn2\u001b[39m\u001b[0m\n",
      "\u001b[32m==>\u001b[0m \u001b[1mInstalling wget dependency: \u001b[32mlibunistring\u001b[39m\u001b[0m\n",
      "\u001b[34m==>\u001b[0m \u001b[1mDownloading https://ghcr.io/v2/homebrew/core/libunistring/manifests/1.1\u001b[0m\n",
      "Already downloaded: /Users/elias/Library/Caches/Homebrew/downloads/a34801f1ad5800ba51b2b3951d82a913ccf0641982f86b02df2f0aa182535055--libunistring-1.1.bottle_manifest.json\n",
      "\u001b[34m==>\u001b[0m \u001b[1mPouring libunistring--1.1.ventura.bottle.tar.gz\u001b[0m\n",
      "🍺  /usr/local/Cellar/libunistring/1.1: 56 files, 5MB\n",
      "\u001b[32m==>\u001b[0m \u001b[1mInstalling wget dependency: \u001b[32mlibidn2\u001b[39m\u001b[0m\n",
      "\u001b[34m==>\u001b[0m \u001b[1mDownloading https://ghcr.io/v2/homebrew/core/libidn2/manifests/2.3.4_1-1\u001b[0m\n",
      "Already downloaded: /Users/elias/Library/Caches/Homebrew/downloads/03ad193177f4e7d05ee2ed19a455028cb5fbf7ea1a812d88f18f5e9e8b4a4d43--libidn2-2.3.4_1-1.bottle_manifest.json\n",
      "\u001b[34m==>\u001b[0m \u001b[1mPouring libidn2--2.3.4_1.ventura.bottle.1.tar.gz\u001b[0m\n",
      "🍺  /usr/local/Cellar/libidn2/2.3.4_1: 79 files, 1003.2KB\n",
      "\u001b[32m==>\u001b[0m \u001b[1mInstalling \u001b[32mwget\u001b[39m\u001b[0m\n",
      "\u001b[34m==>\u001b[0m \u001b[1mPouring wget--1.21.4.ventura.bottle.tar.gz\u001b[0m\n",
      "🍺  /usr/local/Cellar/wget/1.21.4: 91 files, 4.4MB\n",
      "\u001b[34m==>\u001b[0m \u001b[1mRunning `brew cleanup wget`...\u001b[0m\n",
      "Disable this behaviour by setting HOMEBREW_NO_INSTALL_CLEANUP.\n",
      "Hide these hints with HOMEBREW_NO_ENV_HINTS (see `man brew`).\n",
      "\u001b[32m==>\u001b[0m \u001b[1m`brew cleanup` has not been run in the last 30 days, running now...\u001b[0m\n",
      "Disable this behaviour by setting HOMEBREW_NO_INSTALL_CLEANUP.\n",
      "Hide these hints with HOMEBREW_NO_ENV_HINTS (see `man brew`).\n",
      "Removing: /Users/elias/Library/Caches/Homebrew/gettext--0.21.1... (8.8MB)\n",
      "Removing: /Users/elias/Library/Caches/Homebrew/openssl@3--3.1.2... (7.9MB)\n",
      "Removing: /Users/elias/Library/Caches/Homebrew/pyenv--2.3.24... (757.4KB)\n",
      "Removing: /Users/elias/Library/Caches/Homebrew/python@3.11--3.11.4_1... (14.8MB)\n",
      "Removing: /Users/elias/Library/Caches/Homebrew/sqlite--3.43.0... (2.2MB)\n",
      "Removing: /Users/elias/Library/Logs/Homebrew/openssl@3... (64B)\n",
      "Removing: /Users/elias/Library/Logs/Homebrew/ca-certificates... (64B)\n",
      "Removing: /Users/elias/Library/Logs/Homebrew/python@3.11... (2 files, 2.5KB)\n",
      "Pruned 0 symbolic links and 4 directories from /usr/local\n"
     ]
    }
   ],
   "source": [
    "!brew install wget"
   ]
  },
  {
   "cell_type": "code",
   "execution_count": 6,
   "id": "032f59d0-d268-4e9a-8ced-0c9171f2c3ed",
   "metadata": {},
   "outputs": [
    {
     "name": "stdout",
     "output_type": "stream",
     "text": [
      "--2023-09-24 19:29:01--  https://raw.githubusercontent.com/alexeygrigorev/datasets/master/housing.csv\n",
      "Resolving raw.githubusercontent.com (raw.githubusercontent.com)... 2606:50c0:8003::154, 2606:50c0:8002::154, 2606:50c0:8000::154, ...\n",
      "Connecting to raw.githubusercontent.com (raw.githubusercontent.com)|2606:50c0:8003::154|:443... connected.\n",
      "HTTP request sent, awaiting response... 200 OK\n",
      "Length: 1423529 (1.4M) [text/plain]\n",
      "Saving to: ‘housing.csv’\n",
      "\n",
      "housing.csv         100%[===================>]   1.36M  6.04MB/s    in 0.2s    \n",
      "\n",
      "2023-09-24 19:29:01 (6.04 MB/s) - ‘housing.csv’ saved [1423529/1423529]\n",
      "\n"
     ]
    }
   ],
   "source": [
    "! wget https://raw.githubusercontent.com/alexeygrigorev/datasets/master/housing.csv"
   ]
  },
  {
   "cell_type": "code",
   "execution_count": 245,
   "id": "a9fb34e4-2121-4781-8bba-10fb2dcae49f",
   "metadata": {},
   "outputs": [],
   "source": [
    "housing = pd.read_csv('housing.csv') "
   ]
  },
  {
   "cell_type": "code",
   "execution_count": 246,
   "id": "9ac2d390-39cd-46f4-bac5-2c2768b17ad6",
   "metadata": {},
   "outputs": [
    {
     "data": {
      "text/html": [
       "<div>\n",
       "<style scoped>\n",
       "    .dataframe tbody tr th:only-of-type {\n",
       "        vertical-align: middle;\n",
       "    }\n",
       "\n",
       "    .dataframe tbody tr th {\n",
       "        vertical-align: top;\n",
       "    }\n",
       "\n",
       "    .dataframe thead th {\n",
       "        text-align: right;\n",
       "    }\n",
       "</style>\n",
       "<table border=\"1\" class=\"dataframe\">\n",
       "  <thead>\n",
       "    <tr style=\"text-align: right;\">\n",
       "      <th></th>\n",
       "      <th>longitude</th>\n",
       "      <th>latitude</th>\n",
       "      <th>housing_median_age</th>\n",
       "      <th>total_rooms</th>\n",
       "      <th>total_bedrooms</th>\n",
       "      <th>population</th>\n",
       "      <th>households</th>\n",
       "      <th>median_income</th>\n",
       "      <th>median_house_value</th>\n",
       "      <th>ocean_proximity</th>\n",
       "    </tr>\n",
       "  </thead>\n",
       "  <tbody>\n",
       "    <tr>\n",
       "      <th>0</th>\n",
       "      <td>-122.23</td>\n",
       "      <td>37.88</td>\n",
       "      <td>41.0</td>\n",
       "      <td>880.0</td>\n",
       "      <td>129.0</td>\n",
       "      <td>322.0</td>\n",
       "      <td>126.0</td>\n",
       "      <td>8.3252</td>\n",
       "      <td>452600.0</td>\n",
       "      <td>NEAR BAY</td>\n",
       "    </tr>\n",
       "    <tr>\n",
       "      <th>1</th>\n",
       "      <td>-122.22</td>\n",
       "      <td>37.86</td>\n",
       "      <td>21.0</td>\n",
       "      <td>7099.0</td>\n",
       "      <td>1106.0</td>\n",
       "      <td>2401.0</td>\n",
       "      <td>1138.0</td>\n",
       "      <td>8.3014</td>\n",
       "      <td>358500.0</td>\n",
       "      <td>NEAR BAY</td>\n",
       "    </tr>\n",
       "    <tr>\n",
       "      <th>2</th>\n",
       "      <td>-122.24</td>\n",
       "      <td>37.85</td>\n",
       "      <td>52.0</td>\n",
       "      <td>1467.0</td>\n",
       "      <td>190.0</td>\n",
       "      <td>496.0</td>\n",
       "      <td>177.0</td>\n",
       "      <td>7.2574</td>\n",
       "      <td>352100.0</td>\n",
       "      <td>NEAR BAY</td>\n",
       "    </tr>\n",
       "    <tr>\n",
       "      <th>3</th>\n",
       "      <td>-122.25</td>\n",
       "      <td>37.85</td>\n",
       "      <td>52.0</td>\n",
       "      <td>1274.0</td>\n",
       "      <td>235.0</td>\n",
       "      <td>558.0</td>\n",
       "      <td>219.0</td>\n",
       "      <td>5.6431</td>\n",
       "      <td>341300.0</td>\n",
       "      <td>NEAR BAY</td>\n",
       "    </tr>\n",
       "    <tr>\n",
       "      <th>4</th>\n",
       "      <td>-122.25</td>\n",
       "      <td>37.85</td>\n",
       "      <td>52.0</td>\n",
       "      <td>1627.0</td>\n",
       "      <td>280.0</td>\n",
       "      <td>565.0</td>\n",
       "      <td>259.0</td>\n",
       "      <td>3.8462</td>\n",
       "      <td>342200.0</td>\n",
       "      <td>NEAR BAY</td>\n",
       "    </tr>\n",
       "  </tbody>\n",
       "</table>\n",
       "</div>"
      ],
      "text/plain": [
       "   longitude  latitude  housing_median_age  total_rooms  total_bedrooms  \\\n",
       "0    -122.23     37.88                41.0        880.0           129.0   \n",
       "1    -122.22     37.86                21.0       7099.0          1106.0   \n",
       "2    -122.24     37.85                52.0       1467.0           190.0   \n",
       "3    -122.25     37.85                52.0       1274.0           235.0   \n",
       "4    -122.25     37.85                52.0       1627.0           280.0   \n",
       "\n",
       "   population  households  median_income  median_house_value ocean_proximity  \n",
       "0       322.0       126.0         8.3252            452600.0        NEAR BAY  \n",
       "1      2401.0      1138.0         8.3014            358500.0        NEAR BAY  \n",
       "2       496.0       177.0         7.2574            352100.0        NEAR BAY  \n",
       "3       558.0       219.0         5.6431            341300.0        NEAR BAY  \n",
       "4       565.0       259.0         3.8462            342200.0        NEAR BAY  "
      ]
     },
     "execution_count": 246,
     "metadata": {},
     "output_type": "execute_result"
    }
   ],
   "source": [
    "housing.head()"
   ]
  },
  {
   "cell_type": "markdown",
   "id": "e60f4996-4b88-49fe-92fe-5d658196adfc",
   "metadata": {},
   "source": [
    "### EDA\n",
    "\n",
    "* Load the data.\n",
    "* Look at the `median_house_value` variable. Does it have a long tail? "
   ]
  },
  {
   "cell_type": "code",
   "execution_count": 247,
   "id": "ebfba60c-0850-4d86-8d9f-ff61c4fd085e",
   "metadata": {},
   "outputs": [
    {
     "data": {
      "text/plain": [
       "(array([   5.,    5.,    6.,   10.,   26.,   75.,  171.,  288.,  291.,\n",
       "         350.,  389.,  275.,  362.,  473.,  518.,  470.,  381.,  394.,\n",
       "         489.,  402.,  404.,  378.,  504.,  489.,  397.,  494.,  542.,\n",
       "         615.,  447.,  439.,  407.,  454.,  489.,  357.,  287.,  276.,\n",
       "         334.,  359.,  396.,  322.,  327.,  309.,  272.,  252.,  233.,\n",
       "         232.,  250.,  243.,  241.,  190.,  188.,  171.,  133.,  116.,\n",
       "         112.,  136.,  119.,  137.,  136.,  145.,  141.,  124.,  189.,\n",
       "          99.,  113.,   99.,   91.,   70.,   71.,   63.,   75.,   71.,\n",
       "          50.,   59.,   64.,   44.,   42.,   59.,   45.,   48.,   68.,\n",
       "          35.,   37.,   26.,   29.,   32.,   26.,   24.,   22., 1012.]),\n",
       " array([ 14999.        ,  20387.91111111,  25776.82222222,  31165.73333333,\n",
       "         36554.64444444,  41943.55555556,  47332.46666667,  52721.37777778,\n",
       "         58110.28888889,  63499.2       ,  68888.11111111,  74277.02222222,\n",
       "         79665.93333333,  85054.84444444,  90443.75555556,  95832.66666667,\n",
       "        101221.57777778, 106610.48888889, 111999.4       , 117388.31111111,\n",
       "        122777.22222222, 128166.13333333, 133555.04444444, 138943.95555556,\n",
       "        144332.86666667, 149721.77777778, 155110.68888889, 160499.6       ,\n",
       "        165888.51111111, 171277.42222222, 176666.33333333, 182055.24444444,\n",
       "        187444.15555556, 192833.06666667, 198221.97777778, 203610.88888889,\n",
       "        208999.8       , 214388.71111111, 219777.62222222, 225166.53333333,\n",
       "        230555.44444444, 235944.35555556, 241333.26666667, 246722.17777778,\n",
       "        252111.08888889, 257500.        , 262888.91111111, 268277.82222222,\n",
       "        273666.73333333, 279055.64444444, 284444.55555556, 289833.46666667,\n",
       "        295222.37777778, 300611.28888889, 306000.2       , 311389.11111111,\n",
       "        316778.02222222, 322166.93333333, 327555.84444444, 332944.75555556,\n",
       "        338333.66666667, 343722.57777778, 349111.48888889, 354500.4       ,\n",
       "        359889.31111111, 365278.22222222, 370667.13333333, 376056.04444444,\n",
       "        381444.95555556, 386833.86666667, 392222.77777778, 397611.68888889,\n",
       "        403000.6       , 408389.51111111, 413778.42222222, 419167.33333333,\n",
       "        424556.24444444, 429945.15555556, 435334.06666667, 440722.97777778,\n",
       "        446111.88888889, 451500.8       , 456889.71111111, 462278.62222222,\n",
       "        467667.53333333, 473056.44444444, 478445.35555556, 483834.26666667,\n",
       "        489223.17777778, 494612.08888889, 500001.        ]),\n",
       " <BarContainer object of 90 artists>)"
      ]
     },
     "execution_count": 247,
     "metadata": {},
     "output_type": "execute_result"
    },
    {
     "data": {
      "image/png": "[encoded data removed]",
      "text/plain": [
       "<Figure size 640x480 with 1 Axes>"
      ]
     },
     "metadata": {},
     "output_type": "display_data"
    }
   ],
   "source": [
    "plt.hist(housing['median_house_value'], bins=90)"
   ]
  },
  {
   "cell_type": "markdown",
   "id": "462c8b6c-4813-460e-a0f5-e095f895a4cf",
   "metadata": {},
   "source": [
    "**Yes `median_house_value` has a big tail**"
   ]
  },
  {
   "cell_type": "markdown",
   "id": "f0138aa5-2ec3-436d-975d-749bfed6a074",
   "metadata": {},
   "source": [
    "### Preparing the dataset \n",
    "\n",
    "For this homework, we only want to use a subset of data. \n",
    "\n",
    "First, keep only the records where `ocean_proximity` is either `'<1H OCEAN'` or `'INLAND'`\n",
    "\n",
    "Next, use only the following columns:\n",
    "\n",
    "* `'latitude'`,\n",
    "* `'longitude'`,\n",
    "* `'housing_median_age'`,\n",
    "* `'total_rooms'`,\n",
    "* `'total_bedrooms'`,\n",
    "* `'population'`,\n",
    "* `'households'`,\n",
    "* `'median_income'`,\n",
    "* `'median_house_value'`"
   ]
  },
  {
   "cell_type": "code",
   "execution_count": 248,
   "id": "206ed028-2c26-49a7-99d8-00131e0e1dd4",
   "metadata": {},
   "outputs": [],
   "source": [
    "# Ocean conditions\n",
    "ocean_condition_1 = (housing['ocean_proximity'] == 'INLAND')\n",
    "ocean_condition_2 = (housing['ocean_proximity'] == '<1H OCEAN')\n",
    "h2 = housing[ocean_condition_1 | ocean_condition_2]"
   ]
  },
  {
   "cell_type": "code",
   "execution_count": 249,
   "id": "80110cf4-67ea-4faa-8c59-a900e1926fea",
   "metadata": {},
   "outputs": [],
   "source": [
    "h3 = h2[['latitude',\n",
    "'longitude',\n",
    "'housing_median_age',\n",
    "'total_rooms',\n",
    "'total_bedrooms',\n",
    "'population',\n",
    "'households',\n",
    "'median_income',\n",
    "'median_house_value']]"
   ]
  },
  {
   "cell_type": "markdown",
   "id": "269d5021-2543-4d9b-aa08-b66d925ce6e5",
   "metadata": {},
   "source": [
    "### Question 1\n",
    "\n",
    "There's one feature with missing values. What is it?\n",
    "\n",
    "* `total_rooms`\n",
    "* `total_bedrooms`\n",
    "* `population`\n",
    "* `households`\n"
   ]
  },
  {
   "cell_type": "code",
   "execution_count": 250,
   "id": "12e90dfa-89f4-4079-8e18-195fc2ee0f65",
   "metadata": {},
   "outputs": [
    {
     "name": "stdout",
     "output_type": "stream",
     "text": [
      "latitude              False\n",
      "longitude             False\n",
      "housing_median_age    False\n",
      "total_rooms           False\n",
      "total_bedrooms         True\n",
      "population            False\n",
      "households            False\n",
      "median_income         False\n",
      "median_house_value    False\n",
      "dtype: bool\n"
     ]
    }
   ],
   "source": [
    "print(h3.isnull().any() == True)"
   ]
  },
  {
   "cell_type": "markdown",
   "id": "d2ef84c8-cb3c-4a66-b323-2a7e552d1cd0",
   "metadata": {},
   "source": [
    "**The feature `total_bedrooms` has missing values**"
   ]
  },
  {
   "cell_type": "markdown",
   "id": "f3283d73-d4f9-4ab3-b35a-726d99fc0c1e",
   "metadata": {},
   "source": [
    "### Question 2\n",
    "\n",
    "What's the median (50% percentile) for variable `'population'`?\n",
    "\n",
    "- 995\n",
    "- 1095\n",
    "- 1195\n",
    "- 1295"
   ]
  },
  {
   "cell_type": "code",
   "execution_count": 251,
   "id": "b9f6ccbf-58aa-4a0a-bc0a-abd89ce26196",
   "metadata": {},
   "outputs": [
    {
     "name": "stdout",
     "output_type": "stream",
     "text": [
      "The median population is: 1195.0\n"
     ]
    }
   ],
   "source": [
    "median_population = h3['population'].median()\n",
    "print(f\"The median population is: {median_population}\")"
   ]
  },
  {
   "cell_type": "markdown",
   "id": "761ccd63-d67c-486b-b2c2-e92680f1bc20",
   "metadata": {},
   "source": [
    "### Prepare and split the dataset\n",
    "\n",
    "* Shuffle the dataset (the filtered one you created above), use seed `42`.\n",
    "* Split your data in train/val/test sets, with 60%/20%/20% distribution.\n",
    "* Apply the log transformation to the `median_house_value` variable using the `np.log1p()` function."
   ]
  },
  {
   "cell_type": "code",
   "execution_count": 252,
   "id": "7a6f6c56-f454-4285-9372-aec7d8ebf003",
   "metadata": {},
   "outputs": [],
   "source": [
    "n = len(h3)\n",
    "\n",
    "n_val = int(n * 0.2)\n",
    "n_test = int(n * 0.2)\n",
    "n_train = n - n_val - n_test"
   ]
  },
  {
   "cell_type": "code",
   "execution_count": 253,
   "id": "a918bdea-ad8b-400f-a587-cab30371ea42",
   "metadata": {},
   "outputs": [],
   "source": [
    "df_train = h3.iloc[:n_train]\n",
    "df_val = h3.iloc[n_train:n_train+n_val]\n",
    "df_test = h3.iloc[n_train+n_val:]"
   ]
  },
  {
   "cell_type": "code",
   "execution_count": 254,
   "id": "b8ce1972-dc9c-4926-bebf-6fa62bee6a0a",
   "metadata": {},
   "outputs": [],
   "source": [
    "idx = np.arange(n)"
   ]
  },
  {
   "cell_type": "code",
   "execution_count": 255,
   "id": "ec8fabff-db84-4b8c-84d0-91999db5275d",
   "metadata": {},
   "outputs": [],
   "source": [
    "np.random.seed(42)\n",
    "np.random.shuffle(idx)"
   ]
  },
  {
   "cell_type": "code",
   "execution_count": 256,
   "id": "0ef48b7b-b02a-4d06-8771-6c2fd6608820",
   "metadata": {},
   "outputs": [],
   "source": [
    "df_train = h3.iloc[idx[:n_train]]\n",
    "df_val = h3.iloc[idx[n_train:n_train+n_val]]\n",
    "df_test = h3.iloc[idx[n_train+n_val:]]"
   ]
  },
  {
   "cell_type": "code",
   "execution_count": 257,
   "id": "b8889b43-8be3-41b9-bb4d-7e05163c4c30",
   "metadata": {},
   "outputs": [
    {
     "data": {
      "text/html": [
       "<div>\n",
       "<style scoped>\n",
       "    .dataframe tbody tr th:only-of-type {\n",
       "        vertical-align: middle;\n",
       "    }\n",
       "\n",
       "    .dataframe tbody tr th {\n",
       "        vertical-align: top;\n",
       "    }\n",
       "\n",
       "    .dataframe thead th {\n",
       "        text-align: right;\n",
       "    }\n",
       "</style>\n",
       "<table border=\"1\" class=\"dataframe\">\n",
       "  <thead>\n",
       "    <tr style=\"text-align: right;\">\n",
       "      <th></th>\n",
       "      <th>latitude</th>\n",
       "      <th>longitude</th>\n",
       "      <th>housing_median_age</th>\n",
       "      <th>total_rooms</th>\n",
       "      <th>total_bedrooms</th>\n",
       "      <th>population</th>\n",
       "      <th>households</th>\n",
       "      <th>median_income</th>\n",
       "      <th>median_house_value</th>\n",
       "    </tr>\n",
       "  </thead>\n",
       "  <tbody>\n",
       "    <tr>\n",
       "      <th>19963</th>\n",
       "      <td>36.23</td>\n",
       "      <td>-119.14</td>\n",
       "      <td>22.0</td>\n",
       "      <td>2935.0</td>\n",
       "      <td>523.0</td>\n",
       "      <td>1927.0</td>\n",
       "      <td>530.0</td>\n",
       "      <td>2.5875</td>\n",
       "      <td>70400.0</td>\n",
       "    </tr>\n",
       "    <tr>\n",
       "      <th>5929</th>\n",
       "      <td>34.12</td>\n",
       "      <td>-117.79</td>\n",
       "      <td>16.0</td>\n",
       "      <td>2426.0</td>\n",
       "      <td>426.0</td>\n",
       "      <td>1319.0</td>\n",
       "      <td>446.0</td>\n",
       "      <td>4.8125</td>\n",
       "      <td>224500.0</td>\n",
       "    </tr>\n",
       "    <tr>\n",
       "      <th>11377</th>\n",
       "      <td>33.68</td>\n",
       "      <td>-117.97</td>\n",
       "      <td>26.0</td>\n",
       "      <td>3653.0</td>\n",
       "      <td>568.0</td>\n",
       "      <td>1930.0</td>\n",
       "      <td>585.0</td>\n",
       "      <td>5.7301</td>\n",
       "      <td>260900.0</td>\n",
       "    </tr>\n",
       "    <tr>\n",
       "      <th>6443</th>\n",
       "      <td>34.10</td>\n",
       "      <td>-118.03</td>\n",
       "      <td>32.0</td>\n",
       "      <td>2668.0</td>\n",
       "      <td>609.0</td>\n",
       "      <td>1512.0</td>\n",
       "      <td>541.0</td>\n",
       "      <td>2.9422</td>\n",
       "      <td>233100.0</td>\n",
       "    </tr>\n",
       "    <tr>\n",
       "      <th>17546</th>\n",
       "      <td>37.34</td>\n",
       "      <td>-121.87</td>\n",
       "      <td>39.0</td>\n",
       "      <td>2479.0</td>\n",
       "      <td>541.0</td>\n",
       "      <td>1990.0</td>\n",
       "      <td>506.0</td>\n",
       "      <td>2.4306</td>\n",
       "      <td>289100.0</td>\n",
       "    </tr>\n",
       "  </tbody>\n",
       "</table>\n",
       "</div>"
      ],
      "text/plain": [
       "       latitude  longitude  housing_median_age  total_rooms  total_bedrooms  \\\n",
       "19963     36.23    -119.14                22.0       2935.0           523.0   \n",
       "5929      34.12    -117.79                16.0       2426.0           426.0   \n",
       "11377     33.68    -117.97                26.0       3653.0           568.0   \n",
       "6443      34.10    -118.03                32.0       2668.0           609.0   \n",
       "17546     37.34    -121.87                39.0       2479.0           541.0   \n",
       "\n",
       "       population  households  median_income  median_house_value  \n",
       "19963      1927.0       530.0         2.5875             70400.0  \n",
       "5929       1319.0       446.0         4.8125            224500.0  \n",
       "11377      1930.0       585.0         5.7301            260900.0  \n",
       "6443       1512.0       541.0         2.9422            233100.0  \n",
       "17546      1990.0       506.0         2.4306            289100.0  "
      ]
     },
     "execution_count": 257,
     "metadata": {},
     "output_type": "execute_result"
    }
   ],
   "source": [
    "df_train.head()"
   ]
  },
  {
   "cell_type": "code",
   "execution_count": 258,
   "id": "6535f4d8-309c-45d4-a72b-6eb93e029f17",
   "metadata": {},
   "outputs": [],
   "source": [
    "df_train = df_train.reset_index(drop=True)\n",
    "df_val = df_val.reset_index(drop=True)\n",
    "df_test = df_test.reset_index(drop=True)"
   ]
  },
  {
   "cell_type": "code",
   "execution_count": 259,
   "id": "c906290b-cba3-40e7-bddf-a849050ad4f0",
   "metadata": {},
   "outputs": [],
   "source": [
    "y_train = np.log1p(df_train.median_house_value.values)\n",
    "y_val = np.log1p(df_val.median_house_value.values)\n",
    "y_test = np.log1p(df_test.median_house_value.values)"
   ]
  },
  {
   "cell_type": "code",
   "execution_count": 260,
   "id": "131b73ca-a8e4-46db-b14a-61d91c55c430",
   "metadata": {},
   "outputs": [],
   "source": [
    "del df_train['median_house_value']\n",
    "del df_val['median_house_value']\n",
    "del df_test['median_house_value']"
   ]
  },
  {
   "cell_type": "markdown",
   "id": "c4b870de-68ce-4505-b025-82879d081d12",
   "metadata": {},
   "source": [
    "### Question 3\n",
    "\n",
    "* We need to deal with missing values for the column from Q1.\n",
    "* We have two options: fill it with 0 or with the mean of this variable.\n",
    "* Try both options. For each, train a linear regression model without regularization using the code from the lessons.\n",
    "* For computing the mean, use the training only!\n",
    "* Use the validation dataset to evaluate the models and compare the RMSE of each option.\n",
    "* Round the RMSE scores to 2 decimal digits using `round(score, 2)`\n",
    "* Which option gives better RMSE?\n",
    "\n",
    "Options:\n",
    "\n",
    "- With 0\n",
    "- With mean\n",
    "- Both are equally good"
   ]
  },
  {
   "cell_type": "code",
   "execution_count": 261,
   "id": "04603c48-d447-4dcd-9566-2070bd8ed492",
   "metadata": {},
   "outputs": [],
   "source": [
    "def prepare_X(df, base, fill):\n",
    "    df_num = df[base]\n",
    "    if fill==\"zeros\":\n",
    "        df_num = df_num.fillna(0)\n",
    "    elif fill==\"mean\":\n",
    "        df_num = df_num.fillna(df_num['total_bedrooms'].mean())\n",
    "    X = df_num.values\n",
    "    return X"
   ]
  },
  {
   "cell_type": "code",
   "execution_count": 262,
   "id": "a6e356b6-1346-4cd2-9334-28efa2b30982",
   "metadata": {},
   "outputs": [],
   "source": [
    "def train_linear_regression(X, y):\n",
    "    ones = np.ones(X.shape[0]) # Adding the bias term\n",
    "    X = np.column_stack([ones, X]) # Adding the bias term\n",
    "\n",
    "    XTX = X.T.dot(X) # Gram matrix\n",
    "    XTX_inv = np.linalg.inv(XTX) # Inverse of Gram matrix\n",
    "    w_full = XTX_inv.dot(X.T).dot(y_train) # All of our weights, including the bias term\n",
    "    \n",
    "    return w_full[0], w_full[1:]"
   ]
  },
  {
   "cell_type": "code",
   "execution_count": 263,
   "id": "b85dab2e-36bf-43b8-afa1-589fc0137a50",
   "metadata": {},
   "outputs": [],
   "source": [
    "# RMSE \n",
    "def rmse(y, y_pred):\n",
    "    error = y - y_pred\n",
    "    se = error ** 2\n",
    "    mse = se.mean()\n",
    "    return np.sqrt(mse)"
   ]
  },
  {
   "cell_type": "code",
   "execution_count": 264,
   "id": "59cd1acb-1e06-47df-9492-077bdb416073",
   "metadata": {},
   "outputs": [
    {
     "data": {
      "text/plain": [
       "0.34"
      ]
     },
     "execution_count": 264,
     "metadata": {},
     "output_type": "execute_result"
    }
   ],
   "source": [
    "X_train = prepare_X(df_train, base, \"zeros\")\n",
    "w0, w = train_linear_regression(X_train, y_train)\n",
    "\n",
    "X_val = prepare_X(df_val, base, \"zeros\")\n",
    "y_pred = w0 + X_val.dot(w)\n",
    "\n",
    "round(rmse(y_val, y_pred), 2)"
   ]
  },
  {
   "cell_type": "code",
   "execution_count": 265,
   "id": "edd1ecf1-f9e3-44dc-a810-13ba10157ea9",
   "metadata": {},
   "outputs": [
    {
     "data": {
      "text/plain": [
       "0.34"
      ]
     },
     "execution_count": 265,
     "metadata": {},
     "output_type": "execute_result"
    }
   ],
   "source": [
    "X_train = prepare_X(df_train, base, \"mean\")\n",
    "w0, w = train_linear_regression(X_train, y_train)\n",
    "\n",
    "X_val = prepare_X(df_val, base, \"mean\")\n",
    "y_pred = w0 + X_val.dot(w)\n",
    "\n",
    "round(rmse(y_val, y_pred), 2)"
   ]
  },
  {
   "cell_type": "markdown",
   "id": "6f258a7b-f4cf-49ed-9f52-84677753b863",
   "metadata": {},
   "source": [
    "**Both RMSE are equally good**"
   ]
  },
  {
   "cell_type": "code",
   "execution_count": 266,
   "id": "0a3400bc-1849-4310-90d0-c2d8026fcd93",
   "metadata": {},
   "outputs": [
    {
     "name": "stderr",
     "output_type": "stream",
     "text": [
      "/Users/elias/Library/Caches/pypoetry/virtualenvs/machine-learning-zoomcamp-OlxYtftY-py3.11/lib/python3.11/site-packages/seaborn/_oldcore.py:1498: FutureWarning: is_categorical_dtype is deprecated and will be removed in a future version. Use isinstance(dtype, CategoricalDtype) instead\n",
      "  if pd.api.types.is_categorical_dtype(vector):\n",
      "/Users/elias/Library/Caches/pypoetry/virtualenvs/machine-learning-zoomcamp-OlxYtftY-py3.11/lib/python3.11/site-packages/seaborn/_oldcore.py:1119: FutureWarning: use_inf_as_na option is deprecated and will be removed in a future version. Convert inf values to NaN before operating instead.\n",
      "  with pd.option_context('mode.use_inf_as_na', True):\n",
      "/Users/elias/Library/Caches/pypoetry/virtualenvs/machine-learning-zoomcamp-OlxYtftY-py3.11/lib/python3.11/site-packages/seaborn/_oldcore.py:1498: FutureWarning: is_categorical_dtype is deprecated and will be removed in a future version. Use isinstance(dtype, CategoricalDtype) instead\n",
      "  if pd.api.types.is_categorical_dtype(vector):\n",
      "/Users/elias/Library/Caches/pypoetry/virtualenvs/machine-learning-zoomcamp-OlxYtftY-py3.11/lib/python3.11/site-packages/seaborn/_oldcore.py:1119: FutureWarning: use_inf_as_na option is deprecated and will be removed in a future version. Convert inf values to NaN before operating instead.\n",
      "  with pd.option_context('mode.use_inf_as_na', True):\n"
     ]
    },
    {
     "data": {
      "text/plain": [
       "<Axes: ylabel='Count'>"
      ]
     },
     "execution_count": 266,
     "metadata": {},
     "output_type": "execute_result"
    },
    {
     "data": {
      "image/png": "[encoded data removed]",
      "text/plain": [
       "<Figure size 640x480 with 1 Axes>"
      ]
     },
     "metadata": {},
     "output_type": "display_data"
    }
   ],
   "source": [
    "sns.histplot(y_val, color='blue', bins=50)\n",
    "sns.histplot(y_pred, color='red', bins=50)"
   ]
  },
  {
   "cell_type": "markdown",
   "id": "178294f2-357c-41e5-bad6-ac3b8dad318c",
   "metadata": {},
   "source": [
    "### Question 4\n",
    "\n",
    "* Now let's train a regularized linear regression.\n",
    "* For this question, fill the NAs with 0. \n",
    "* Try different values of `r` from this list: `[0, 0.000001, 0.0001, 0.001, 0.01, 0.1, 1, 5, 10]`.\n",
    "* Use RMSE to evaluate the model on the validation dataset.\n",
    "* Round the RMSE scores to 2 decimal digits.\n",
    "* Which `r` gives the best RMSE?\n",
    "\n",
    "If there are multiple options, select the smallest `r`.\n",
    "\n",
    "Options:\n",
    "\n",
    "- 0\n",
    "- 0.000001\n",
    "- 0.001\n",
    "- 0.0001"
   ]
  },
  {
   "cell_type": "code",
   "execution_count": 267,
   "id": "468848ae-40e4-42cc-9678-5ce1a30e6967",
   "metadata": {},
   "outputs": [],
   "source": [
    "def train_linear_regression_reg(X, y, r=0.001):\n",
    "    ones = np.ones(X.shape[0])\n",
    "    X = np.column_stack([ones, X])\n",
    "\n",
    "    XTX = X.T.dot(X) # Gram matrix\n",
    "    XTX = XTX + r * np.eye(XTX.shape[0])\n",
    "\n",
    "    XTX_inv = np.linalg.inv(XTX) # Inverse of Gram matrix\n",
    "    w_full = XTX_inv.dot(X.T).dot(y)\n",
    "    \n",
    "    return w_full[0], w_full[1:]"
   ]
  },
  {
   "cell_type": "code",
   "execution_count": 268,
   "id": "c9af1713-f398-41c2-a200-8ea273c4534a",
   "metadata": {},
   "outputs": [
    {
     "name": "stdout",
     "output_type": "stream",
     "text": [
      "0.0 -9.763249477872478 0.34\n",
      "1e-05 -9.763043013681752 0.34\n",
      "0.0001 -9.761185235634128 0.34\n",
      "0.001 -9.742646249295081 0.34\n",
      "0.1 -8.058889769412012 0.34\n",
      "1 -3.1331542783180195 0.34\n",
      "10 -0.43811723158933275 0.35\n"
     ]
    }
   ],
   "source": [
    "for r in [0.0, 0.00001, 0.0001, 0.001, 0.1, 1, 10]:\n",
    "    X_train = prepare_X(df_train, base, \"zeros\")\n",
    "    w0, w = train_linear_regression_reg(X_train, y_train, r=r)\n",
    "\n",
    "    X_val = prepare_X(df_val, base, \"zeros\")\n",
    "    y_pred = w0 + X_val.dot(w)\n",
    "    score = round(rmse(y_val, y_pred), 2)\n",
    "    \n",
    "    print(r, w0, score)"
   ]
  },
  {
   "cell_type": "markdown",
   "id": "7b2c5ee9-a672-47a0-8b9f-5fe31411ed79",
   "metadata": {},
   "source": [
    "### Question 5 \n",
    "\n",
    "* We used seed 42 for splitting the data. Let's find out how selecting the seed influences our score.\n",
    "* Try different seed values: `[0, 1, 2, 3, 4, 5, 6, 7, 8, 9]`.\n",
    "* For each seed, do the train/validation/test split with 60%/20%/20% distribution.\n",
    "* Fill the missing values with 0 and train a model without regularization.\n",
    "* For each seed, evaluate the model on the validation dataset and collect the RMSE scores. \n",
    "* What's the standard deviation of all the scores? To compute the standard deviation, use `np.std`.\n",
    "* Round the result to 3 decimal digits (`round(std, 3)`)\n",
    "\n",
    "What's the value of std?\n",
    "\n",
    "- 0.5\n",
    "- 0.05\n",
    "- 0.005\n",
    "- 0.0005\n",
    "\n",
    "> Note: Standard deviation shows how different the values are.\n",
    "> If it's low, then all values are approximately the same.\n",
    "> If it's high, the values are different. \n",
    "> If standard deviation of scores is low, then our model is *stable*.\n"
   ]
  },
  {
   "cell_type": "code",
   "execution_count": 281,
   "id": "1b53cf2e-552f-4165-b262-ed3ce1bbf450",
   "metadata": {},
   "outputs": [
    {
     "name": "stdout",
     "output_type": "stream",
     "text": [
      "0 0.33773871600432287\n",
      "1 0.3377999353665378\n",
      "2 0.3384287006753424\n",
      "3 0.3320049468303904\n",
      "4 0.3394451862555888\n",
      "5 0.34338197052659847\n",
      "6 0.33853302117699496\n",
      "7 0.34687476972995657\n",
      "8 0.35127368659627967\n",
      "9 0.33415582665206545\n",
      "0.005\n"
     ]
    }
   ],
   "source": [
    "scores = []\n",
    "for seed in [0, 1, 2, 3, 4, 5, 6, 7, 8, 9]:    \n",
    "\n",
    "    ## Splitting:\n",
    "    n = len(h3)\n",
    "\n",
    "    n_val = int(n * 0.2)\n",
    "    n_test = int(n * 0.2)\n",
    "    n_train = n - n_val - n_test\n",
    "\n",
    "    ## Shuffle index:\n",
    "    idx = np.arange(n)\n",
    "    np.random.seed(seed=seed)\n",
    "    np.random.shuffle(idx)\n",
    "\n",
    "    ## New dfs with random variables:\n",
    "    df_train = h3.iloc[idx[:n_train]]\n",
    "    df_val = h3.iloc[idx[n_train:n_train+n_val]]\n",
    "    df_test = h3.iloc[idx[n_train+n_val:]]\n",
    "\n",
    "    ## Re-indexing:\n",
    "    df_train = df_train.reset_index(drop=True)\n",
    "    df_val = df_val.reset_index(drop=True)\n",
    "    df_test = df_test.reset_index(drop=True)\n",
    "\n",
    "    ## Logs:\n",
    "    y_train = np.log1p(df_train.median_house_value.values)\n",
    "    y_val = np.log1p(df_val.median_house_value.values)\n",
    "    y_test = np.log1p(df_test.median_house_value.values)\n",
    "\n",
    "    ## Cleaning:\n",
    "    del df_train['median_house_value']\n",
    "    del df_val['median_house_value']\n",
    "    del df_test['median_house_value']\n",
    "\n",
    "    ## Running model:\n",
    "    X_train = prepare_X(df_train, base, \"zeros\")\n",
    "    w0, w = train_linear_regression(X_train, y_train)\n",
    "    \n",
    "    X_val = prepare_X(df_val, base, \"zeros\")\n",
    "    y_pred = w0 + X_val.dot(w)\n",
    "\n",
    "    score = rmse(y_val, y_pred)\n",
    "    print(seed, score)\n",
    "    scores.append(score)\n",
    "\n",
    "print(round(np.std(scores),3))"
   ]
  },
  {
   "cell_type": "markdown",
   "id": "c95f81b2-7abc-4064-b7f2-4737549e47c2",
   "metadata": {},
   "source": [
    "\n",
    "### Question 6\n",
    "\n",
    "* Split the dataset like previously, use seed 9.\n",
    "* Combine train and validation datasets.\n",
    "* Fill the missing values with 0 and train a model with `r=0.001`. \n",
    "* What's the RMSE on the test dataset?\n",
    "\n",
    "Options:\n",
    "\n",
    "- 0.13\n",
    "- 0.23\n",
    "- 0.33\n",
    "- 0.43"
   ]
  },
  {
   "cell_type": "code",
   "execution_count": 293,
   "id": "6c0c7766-39ac-4b3d-85ab-12292ad4f277",
   "metadata": {},
   "outputs": [],
   "source": [
    "## Splitting:\n",
    "n = len(h3)\n",
    "\n",
    "n_val = int(n * 0.2)\n",
    "n_test = int(n * 0.2)\n",
    "n_train = n - n_val - n_test\n",
    "\n",
    "## Shuffle index:\n",
    "idx = np.arange(n)\n",
    "np.random.seed(9) # Using seed = 9\n",
    "np.random.shuffle(idx)\n",
    "\n",
    "## New dfs with random variables:\n",
    "df_train = h3.iloc[idx[:n_train]]\n",
    "df_val = h3.iloc[idx[n_train:n_train+n_val]]\n",
    "df_test = h3.iloc[idx[n_train+n_val:]]\n",
    "\n",
    "## Re-indexing:\n",
    "df_train = df_train.reset_index(drop=True)\n",
    "df_val = df_val.reset_index(drop=True)\n",
    "df_test = df_test.reset_index(drop=True)"
   ]
  },
  {
   "cell_type": "code",
   "execution_count": 294,
   "id": "eede51eb-5259-46de-9243-21fcb3a015a1",
   "metadata": {},
   "outputs": [],
   "source": [
    "## Combine training and validation datasets\n",
    "df_train_val = pd.concat([df_train, df_val], ignore_index=True)"
   ]
  },
  {
   "cell_type": "code",
   "execution_count": 296,
   "id": "e8fdc92a-9e31-4af3-b6a4-23d041767054",
   "metadata": {},
   "outputs": [
    {
     "data": {
      "text/plain": [
       "0.33"
      ]
     },
     "execution_count": 296,
     "metadata": {},
     "output_type": "execute_result"
    }
   ],
   "source": [
    "## Logs:\n",
    "y_train_val = np.log1p(df_train_val.median_house_value.values)\n",
    "y_test = np.log1p(df_test.median_house_value.values)\n",
    "\n",
    "## Run the model:\n",
    "X_train_val = prepare_X(df_train_val, base, \"zeros\")\n",
    "w0, w = train_linear_regression_reg(X_train, y_train, r=0.001)\n",
    "\n",
    "X_test = prepare_X(df_test, base, \"zeros\")\n",
    "y_pred = w0 + X_test.dot(w)\n",
    "\n",
    "round(rmse(y_test, y_pred),2)"
   ]
  }
 ],
 "metadata": {
  "kernelspec": {
   "display_name": "Python 3 (ipykernel)",
   "language": "python",
   "name": "python3"
  },
  "language_info": {
   "codemirror_mode": {
    "name": "ipython",
    "version": 3
   },
   "file_extension": ".py",
   "mimetype": "text/x-python",
   "name": "python",
   "nbconvert_exporter": "python",
   "pygments_lexer": "ipython3",
   "version": "3.11.4"
  }
 },
 "nbformat": 4,
 "nbformat_minor": 5
}
